{
  "cells": [
    {
      "cell_type": "code",
      "source": [
        "!git clone https://github.com/valleballe/deceptive-ai.git"
      ],
      "metadata": {
        "colab": {
          "base_uri": "https://localhost:8080/"
        },
        "id": "GI2utUpEuqIs",
        "outputId": "1b621f29-91aa-4b03-eb6e-321b5f913107"
      },
      "execution_count": null,
      "outputs": [
        {
          "output_type": "stream",
          "name": "stdout",
          "text": [
            "Cloning into 'deceptive-ai'...\n",
            "remote: Enumerating objects: 96, done.\u001b[K\n",
            "remote: Counting objects: 100% (96/96), done.\u001b[K\n",
            "remote: Compressing objects: 100% (74/74), done.\u001b[K\n",
            "remote: Total 96 (delta 39), reused 63 (delta 20), pack-reused 0\u001b[K\n",
            "Receiving objects: 100% (96/96), 4.52 MiB | 11.58 MiB/s, done.\n",
            "Resolving deltas: 100% (39/39), done.\n"
          ]
        }
      ]
    },
    {
      "cell_type": "code",
      "source": [
        "%cd /content/deceptive-ai/"
      ],
      "metadata": {
        "colab": {
          "base_uri": "https://localhost:8080/"
        },
        "id": "6koKlpPPv2jH",
        "outputId": "c0b2735b-2860-401c-856b-50a186625bb6"
      },
      "execution_count": null,
      "outputs": [
        {
          "output_type": "stream",
          "name": "stdout",
          "text": [
            "/content/deceptive-ai\n"
          ]
        }
      ]
    },
    {
      "cell_type": "code",
      "source": [
        "!pip install stargazer"
      ],
      "metadata": {
        "colab": {
          "base_uri": "https://localhost:8080/"
        },
        "id": "NZ9AMTBzv_hE",
        "outputId": "078643e9-767d-4c29-cc02-a2835231fb60"
      },
      "execution_count": null,
      "outputs": [
        {
          "output_type": "stream",
          "name": "stdout",
          "text": [
            "Collecting stargazer\n",
            "  Downloading stargazer-0.0.5-py3-none-any.whl (9.7 kB)\n",
            "Installing collected packages: stargazer\n",
            "Successfully installed stargazer-0.0.5\n"
          ]
        }
      ]
    },
    {
      "cell_type": "code",
      "execution_count": null,
      "metadata": {
        "id": "QyJjxHarudwH"
      },
      "outputs": [],
      "source": [
        "from scipy import stats\n",
        "from sklearn.metrics import roc_curve, roc_auc_score\n",
        "import pandas as pd\n",
        "import numpy as np\n",
        "import matplotlib.pyplot as plt\n",
        "import statsmodels.api as sm\n",
        "from stargazer.stargazer import Stargazer\n",
        "from IPython.core.display import HTML\n",
        "\n",
        "from scipy.stats import ttest_ind\n",
        "import warnings\n",
        "from sklearn.metrics import confusion_matrix, ConfusionMatrixDisplay\n",
        "from scipy.stats import norm\n",
        "import math\n",
        "import seaborn as sns\n",
        "\n",
        "\n",
        "warnings.filterwarnings('ignore')\n",
        "%matplotlib inline\n",
        "\n",
        "# color palette\n",
        "palette1 = \"#007BFF\"\n",
        "palette2 = \"#3ABFC2\"\n",
        "palette3 = \"#E1C081\"\n",
        "palette4 = \"#E17A57\"\n",
        "palette5 = \"#D92D3F\"\n",
        "\n",
        "red = 'crimson'\n",
        "darkred = 'firebrick'\n",
        "blue = 'lightskyblue'\n",
        "darkblue = 'steelblue'\n",
        "lightgrey = 'lightgrey'\n",
        "darkgrey = 'darkgrey'\n",
        "\n",
        "# load processed results\n",
        "df = pd.read_csv(\"data/results/results_processed.csv\")\n",
        "\n",
        "# creating dummy variables aka binary features\n",
        "df[\"trivia\"] = (df.stimulation==\"trivia\").astype(int)\n",
        "df[\"true_statement\"] = (df.ground_truth==True).astype(int)\n",
        "df[\"explanation\"] = (df.condition==\"flag+explanation\").astype(int)\n",
        "df[\"text_explanation\"] = \"No Explanation\"\n",
        "df.loc[df.explanation==1,\"text_explanation\"] = \"GPT Explanation\"\n",
        "df[\"deceptive_feedback\"] = (df.explanation_type==\"Deceptive\").astype(int)\n",
        "df[\"honest_feedback\"] = (df.explanation_type==\"Honest\").astype(int)\n",
        "df[\"valid_statement\"] = (df.logical_validity==\"VALID\").astype(int)\n",
        "df[\"invalid_statement\"] = (df.logical_validity!=\"VALID\").astype(int)\n",
        "\n",
        "\n",
        "# Delta\n",
        "df[\"rating_delta\"] = df.second_rating - df.initial_rating\n",
        "df['z_rating_delta'] = (df.rating_delta - df.rating_delta.mean())/df.rating_delta.std()\n",
        "\n",
        "\n",
        "# z_scored moderators\n",
        "#df[\"z_valid_statement\"] = (df.valid_statement - df.valid_statement.mean())/df.valid_statement.std()\n",
        "#df[\"z_invalid_statement\"] = (df.invalid_statement - df.invalid_statement.mean())/df.invalid_statement.std()\n",
        "df[\"z_crt\"] = (df.CRT - df.CRT.mean())/df.CRT.std()\n",
        "df[\"z_trust\"] = (df.trust - df.trust.mean())/df.trust.std()\n",
        "df[\"z_knowledge\"] = (df.knowledge - df.knowledge.mean())/df.knowledge.std()\n",
        "\n",
        "# Calculate accuracy\n",
        "df['initial_rating_accuracy'] = df.apply(lambda x: 1 - abs( x.true_statement - x['initial_rating']/5 ), axis=1)\n",
        "df['second_rating_accuracy']  = df.apply(lambda x: 1 - abs( x.true_statement - x['second_rating'] /5 ), axis=1)\n",
        "df['rating_delta_accuracy']  = df.second_rating_accuracy - df.initial_rating_accuracy\n",
        "df['z_rating_delta_accuracy'] = (df.rating_delta_accuracy - df.rating_delta_accuracy.mean())/df.rating_delta_accuracy.std()\n",
        "\n",
        "# Interactions\n",
        "df[\"deceptive_feedback_x_true_statement\"] = df[\"deceptive_feedback\"]*df[\"true_statement\"]\n",
        "df[\"deceptive_feedback_x_ts_x_explanation\"] = df[\"deceptive_feedback\"]*df[\"explanation\"]*df[\"true_statement\"]\n",
        "df[\"deceptive_feedback_x_true_statement_x_explanation\"] = df[\"deceptive_feedback\"]*df[\"explanation\"]*df[\"true_statement\"]\n",
        "df[\"honest_feedback_x_explanation\"] = df[\"honest_feedback\"]*df[\"explanation\"]\n",
        "df[\"honest_feedback_x_true_statement\"] = df[\"honest_feedback\"]*df[\"true_statement\"]\n",
        "df[\"honest_feedback_x_ts_x_explanation\"] = df[\"honest_feedback\"]*df[\"explanation\"]*df[\"true_statement\"]\n",
        "df[\"explanation_x_true_statement\"] = df[\"explanation\"]*df[\"true_statement\"]\n",
        "df[\"explanation_x_deceptive_feedback\"] = df[\"deceptive_feedback\"]*df[\"explanation\"]"
      ]
    },
    {
      "cell_type": "code",
      "source": [
        "print([col for col in df.columns])"
      ],
      "metadata": {
        "colab": {
          "base_uri": "https://localhost:8080/"
        },
        "id": "QiaorbXjIvl7",
        "outputId": "5061bdd9-3040-4c06-ca0f-ef91154c073b"
      },
      "execution_count": null,
      "outputs": [
        {
          "output_type": "stream",
          "name": "stdout",
          "text": [
            "['PROLIFIC_PID', 'order', 'initial_rating', 'second_rating', 'knowledge', 'page_1_time', 'page_2_time', 'stimulus_ID', 'explanation_type', 'RecordedDate', 'Duration (in seconds)', 'Comments', 'trust', 'NFC', 'CRT', 'condition', 'stimulation', 'ground_truth', 'topic', 'logical_validity', 'trivia', 'true_statement', 'explanation', 'text_explanation', 'deceptive_feedback', 'honest_feedback', 'valid_statement', 'invalid_statement', 'rating_delta', 'z_rating_delta', 'z_crt', 'z_trust', 'z_knowledge', 'initial_rating_accuracy', 'second_rating_accuracy', 'rating_delta_accuracy', 'z_rating_delta_accuracy', 'deceptive_feedback_x_true_statement', 'deceptive_feedback_x_ts_x_explanation', 'deceptive_feedback_x_true_statement_x_explanation', 'honest_feedback_x_explanation', 'honest_feedback_x_true_statement', 'honest_feedback_x_ts_x_explanation', 'explanation_x_true_statement', 'explanation_x_deceptive_feedback']\n"
          ]
        }
      ]
    },
    {
      "cell_type": "code",
      "execution_count": null,
      "metadata": {
        "id": "BxVJNb-8udwJ",
        "outputId": "a52e4ca4-28e3-4fac-f2f5-5dbc6d80a4b5",
        "colab": {
          "base_uri": "https://localhost:8080/",
          "height": 676
        }
      },
      "outputs": [
        {
          "output_type": "execute_result",
          "data": {
            "text/plain": [
              "   explanation_type text_explanation  explanation\n",
              "0            Honest   No Explanation            0\n",
              "1            Honest   No Explanation            0\n",
              "2         Deceptive  GPT Explanation            1\n",
              "3         Deceptive  GPT Explanation            1\n",
              "4         Deceptive  GPT Explanation            1\n",
              "5            Honest   No Explanation            0\n",
              "6            Honest   No Explanation            0\n",
              "7            Honest  GPT Explanation            1\n",
              "8            Honest   No Explanation            0\n",
              "9         Deceptive   No Explanation            0\n",
              "10        Deceptive   No Explanation            0\n",
              "11           Honest   No Explanation            0\n",
              "12        Deceptive   No Explanation            0\n",
              "13        Deceptive  GPT Explanation            1\n",
              "14           Honest  GPT Explanation            1\n",
              "15        Deceptive   No Explanation            0\n",
              "16           Honest  GPT Explanation            1\n",
              "17        Deceptive   No Explanation            0\n",
              "18        Deceptive   No Explanation            0\n",
              "19           Honest   No Explanation            0"
            ],
            "text/html": [
              "\n",
              "\n",
              "  <div id=\"df-1b56b0d7-3457-43da-8316-07f35fad2d94\">\n",
              "    <div class=\"colab-df-container\">\n",
              "      <div>\n",
              "<style scoped>\n",
              "    .dataframe tbody tr th:only-of-type {\n",
              "        vertical-align: middle;\n",
              "    }\n",
              "\n",
              "    .dataframe tbody tr th {\n",
              "        vertical-align: top;\n",
              "    }\n",
              "\n",
              "    .dataframe thead th {\n",
              "        text-align: right;\n",
              "    }\n",
              "</style>\n",
              "<table border=\"1\" class=\"dataframe\">\n",
              "  <thead>\n",
              "    <tr style=\"text-align: right;\">\n",
              "      <th></th>\n",
              "      <th>explanation_type</th>\n",
              "      <th>text_explanation</th>\n",
              "      <th>explanation</th>\n",
              "    </tr>\n",
              "  </thead>\n",
              "  <tbody>\n",
              "    <tr>\n",
              "      <th>0</th>\n",
              "      <td>Honest</td>\n",
              "      <td>No Explanation</td>\n",
              "      <td>0</td>\n",
              "    </tr>\n",
              "    <tr>\n",
              "      <th>1</th>\n",
              "      <td>Honest</td>\n",
              "      <td>No Explanation</td>\n",
              "      <td>0</td>\n",
              "    </tr>\n",
              "    <tr>\n",
              "      <th>2</th>\n",
              "      <td>Deceptive</td>\n",
              "      <td>GPT Explanation</td>\n",
              "      <td>1</td>\n",
              "    </tr>\n",
              "    <tr>\n",
              "      <th>3</th>\n",
              "      <td>Deceptive</td>\n",
              "      <td>GPT Explanation</td>\n",
              "      <td>1</td>\n",
              "    </tr>\n",
              "    <tr>\n",
              "      <th>4</th>\n",
              "      <td>Deceptive</td>\n",
              "      <td>GPT Explanation</td>\n",
              "      <td>1</td>\n",
              "    </tr>\n",
              "    <tr>\n",
              "      <th>5</th>\n",
              "      <td>Honest</td>\n",
              "      <td>No Explanation</td>\n",
              "      <td>0</td>\n",
              "    </tr>\n",
              "    <tr>\n",
              "      <th>6</th>\n",
              "      <td>Honest</td>\n",
              "      <td>No Explanation</td>\n",
              "      <td>0</td>\n",
              "    </tr>\n",
              "    <tr>\n",
              "      <th>7</th>\n",
              "      <td>Honest</td>\n",
              "      <td>GPT Explanation</td>\n",
              "      <td>1</td>\n",
              "    </tr>\n",
              "    <tr>\n",
              "      <th>8</th>\n",
              "      <td>Honest</td>\n",
              "      <td>No Explanation</td>\n",
              "      <td>0</td>\n",
              "    </tr>\n",
              "    <tr>\n",
              "      <th>9</th>\n",
              "      <td>Deceptive</td>\n",
              "      <td>No Explanation</td>\n",
              "      <td>0</td>\n",
              "    </tr>\n",
              "    <tr>\n",
              "      <th>10</th>\n",
              "      <td>Deceptive</td>\n",
              "      <td>No Explanation</td>\n",
              "      <td>0</td>\n",
              "    </tr>\n",
              "    <tr>\n",
              "      <th>11</th>\n",
              "      <td>Honest</td>\n",
              "      <td>No Explanation</td>\n",
              "      <td>0</td>\n",
              "    </tr>\n",
              "    <tr>\n",
              "      <th>12</th>\n",
              "      <td>Deceptive</td>\n",
              "      <td>No Explanation</td>\n",
              "      <td>0</td>\n",
              "    </tr>\n",
              "    <tr>\n",
              "      <th>13</th>\n",
              "      <td>Deceptive</td>\n",
              "      <td>GPT Explanation</td>\n",
              "      <td>1</td>\n",
              "    </tr>\n",
              "    <tr>\n",
              "      <th>14</th>\n",
              "      <td>Honest</td>\n",
              "      <td>GPT Explanation</td>\n",
              "      <td>1</td>\n",
              "    </tr>\n",
              "    <tr>\n",
              "      <th>15</th>\n",
              "      <td>Deceptive</td>\n",
              "      <td>No Explanation</td>\n",
              "      <td>0</td>\n",
              "    </tr>\n",
              "    <tr>\n",
              "      <th>16</th>\n",
              "      <td>Honest</td>\n",
              "      <td>GPT Explanation</td>\n",
              "      <td>1</td>\n",
              "    </tr>\n",
              "    <tr>\n",
              "      <th>17</th>\n",
              "      <td>Deceptive</td>\n",
              "      <td>No Explanation</td>\n",
              "      <td>0</td>\n",
              "    </tr>\n",
              "    <tr>\n",
              "      <th>18</th>\n",
              "      <td>Deceptive</td>\n",
              "      <td>No Explanation</td>\n",
              "      <td>0</td>\n",
              "    </tr>\n",
              "    <tr>\n",
              "      <th>19</th>\n",
              "      <td>Honest</td>\n",
              "      <td>No Explanation</td>\n",
              "      <td>0</td>\n",
              "    </tr>\n",
              "  </tbody>\n",
              "</table>\n",
              "</div>\n",
              "      <button class=\"colab-df-convert\" onclick=\"convertToInteractive('df-1b56b0d7-3457-43da-8316-07f35fad2d94')\"\n",
              "              title=\"Convert this dataframe to an interactive table.\"\n",
              "              style=\"display:none;\">\n",
              "\n",
              "  <svg xmlns=\"http://www.w3.org/2000/svg\" height=\"24px\"viewBox=\"0 0 24 24\"\n",
              "       width=\"24px\">\n",
              "    <path d=\"M0 0h24v24H0V0z\" fill=\"none\"/>\n",
              "    <path d=\"M18.56 5.44l.94 2.06.94-2.06 2.06-.94-2.06-.94-.94-2.06-.94 2.06-2.06.94zm-11 1L8.5 8.5l.94-2.06 2.06-.94-2.06-.94L8.5 2.5l-.94 2.06-2.06.94zm10 10l.94 2.06.94-2.06 2.06-.94-2.06-.94-.94-2.06-.94 2.06-2.06.94z\"/><path d=\"M17.41 7.96l-1.37-1.37c-.4-.4-.92-.59-1.43-.59-.52 0-1.04.2-1.43.59L10.3 9.45l-7.72 7.72c-.78.78-.78 2.05 0 2.83L4 21.41c.39.39.9.59 1.41.59.51 0 1.02-.2 1.41-.59l7.78-7.78 2.81-2.81c.8-.78.8-2.07 0-2.86zM5.41 20L4 18.59l7.72-7.72 1.47 1.35L5.41 20z\"/>\n",
              "  </svg>\n",
              "      </button>\n",
              "\n",
              "\n",
              "\n",
              "    <div id=\"df-6f6aa8de-140c-4df4-af10-4d83cba1f212\">\n",
              "      <button class=\"colab-df-quickchart\" onclick=\"quickchart('df-6f6aa8de-140c-4df4-af10-4d83cba1f212')\"\n",
              "              title=\"Suggest charts.\"\n",
              "              style=\"display:none;\">\n",
              "\n",
              "<svg xmlns=\"http://www.w3.org/2000/svg\" height=\"24px\"viewBox=\"0 0 24 24\"\n",
              "     width=\"24px\">\n",
              "    <g>\n",
              "        <path d=\"M19 3H5c-1.1 0-2 .9-2 2v14c0 1.1.9 2 2 2h14c1.1 0 2-.9 2-2V5c0-1.1-.9-2-2-2zM9 17H7v-7h2v7zm4 0h-2V7h2v10zm4 0h-2v-4h2v4z\"/>\n",
              "    </g>\n",
              "</svg>\n",
              "      </button>\n",
              "    </div>\n",
              "\n",
              "<style>\n",
              "  .colab-df-quickchart {\n",
              "    background-color: #E8F0FE;\n",
              "    border: none;\n",
              "    border-radius: 50%;\n",
              "    cursor: pointer;\n",
              "    display: none;\n",
              "    fill: #1967D2;\n",
              "    height: 32px;\n",
              "    padding: 0 0 0 0;\n",
              "    width: 32px;\n",
              "  }\n",
              "\n",
              "  .colab-df-quickchart:hover {\n",
              "    background-color: #E2EBFA;\n",
              "    box-shadow: 0px 1px 2px rgba(60, 64, 67, 0.3), 0px 1px 3px 1px rgba(60, 64, 67, 0.15);\n",
              "    fill: #174EA6;\n",
              "  }\n",
              "\n",
              "  [theme=dark] .colab-df-quickchart {\n",
              "    background-color: #3B4455;\n",
              "    fill: #D2E3FC;\n",
              "  }\n",
              "\n",
              "  [theme=dark] .colab-df-quickchart:hover {\n",
              "    background-color: #434B5C;\n",
              "    box-shadow: 0px 1px 3px 1px rgba(0, 0, 0, 0.15);\n",
              "    filter: drop-shadow(0px 1px 2px rgba(0, 0, 0, 0.3));\n",
              "    fill: #FFFFFF;\n",
              "  }\n",
              "</style>\n",
              "\n",
              "    <script>\n",
              "      async function quickchart(key) {\n",
              "        const containerElement = document.querySelector('#' + key);\n",
              "        const charts = await google.colab.kernel.invokeFunction(\n",
              "            'suggestCharts', [key], {});\n",
              "      }\n",
              "    </script>\n",
              "\n",
              "      <script>\n",
              "\n",
              "function displayQuickchartButton(domScope) {\n",
              "  let quickchartButtonEl =\n",
              "    domScope.querySelector('#df-6f6aa8de-140c-4df4-af10-4d83cba1f212 button.colab-df-quickchart');\n",
              "  quickchartButtonEl.style.display =\n",
              "    google.colab.kernel.accessAllowed ? 'block' : 'none';\n",
              "}\n",
              "\n",
              "        displayQuickchartButton(document);\n",
              "      </script>\n",
              "      <style>\n",
              "    .colab-df-container {\n",
              "      display:flex;\n",
              "      flex-wrap:wrap;\n",
              "      gap: 12px;\n",
              "    }\n",
              "\n",
              "    .colab-df-convert {\n",
              "      background-color: #E8F0FE;\n",
              "      border: none;\n",
              "      border-radius: 50%;\n",
              "      cursor: pointer;\n",
              "      display: none;\n",
              "      fill: #1967D2;\n",
              "      height: 32px;\n",
              "      padding: 0 0 0 0;\n",
              "      width: 32px;\n",
              "    }\n",
              "\n",
              "    .colab-df-convert:hover {\n",
              "      background-color: #E2EBFA;\n",
              "      box-shadow: 0px 1px 2px rgba(60, 64, 67, 0.3), 0px 1px 3px 1px rgba(60, 64, 67, 0.15);\n",
              "      fill: #174EA6;\n",
              "    }\n",
              "\n",
              "    [theme=dark] .colab-df-convert {\n",
              "      background-color: #3B4455;\n",
              "      fill: #D2E3FC;\n",
              "    }\n",
              "\n",
              "    [theme=dark] .colab-df-convert:hover {\n",
              "      background-color: #434B5C;\n",
              "      box-shadow: 0px 1px 3px 1px rgba(0, 0, 0, 0.15);\n",
              "      filter: drop-shadow(0px 1px 2px rgba(0, 0, 0, 0.3));\n",
              "      fill: #FFFFFF;\n",
              "    }\n",
              "  </style>\n",
              "\n",
              "      <script>\n",
              "        const buttonEl =\n",
              "          document.querySelector('#df-1b56b0d7-3457-43da-8316-07f35fad2d94 button.colab-df-convert');\n",
              "        buttonEl.style.display =\n",
              "          google.colab.kernel.accessAllowed ? 'block' : 'none';\n",
              "\n",
              "        async function convertToInteractive(key) {\n",
              "          const element = document.querySelector('#df-1b56b0d7-3457-43da-8316-07f35fad2d94');\n",
              "          const dataTable =\n",
              "            await google.colab.kernel.invokeFunction('convertToInteractive',\n",
              "                                                     [key], {});\n",
              "          if (!dataTable) return;\n",
              "\n",
              "          const docLinkHtml = 'Like what you see? Visit the ' +\n",
              "            '<a target=\"_blank\" href=https://colab.research.google.com/notebooks/data_table.ipynb>data table notebook</a>'\n",
              "            + ' to learn more about interactive tables.';\n",
              "          element.innerHTML = '';\n",
              "          dataTable['output_type'] = 'display_data';\n",
              "          await google.colab.output.renderOutput(dataTable, element);\n",
              "          const docLink = document.createElement('div');\n",
              "          docLink.innerHTML = docLinkHtml;\n",
              "          element.appendChild(docLink);\n",
              "        }\n",
              "      </script>\n",
              "    </div>\n",
              "  </div>\n"
            ]
          },
          "metadata": {},
          "execution_count": 6
        }
      ],
      "source": [
        "df[['explanation_type', 'text_explanation', 'explanation']].head(20)"
      ]
    },
    {
      "cell_type": "code",
      "execution_count": null,
      "metadata": {
        "id": "GecX8iT7udwK",
        "outputId": "77ac2ef6-5ab2-4a15-fd42-bb48d9e08d8f",
        "colab": {
          "base_uri": "https://localhost:8080/"
        }
      },
      "outputs": [
        {
          "output_type": "stream",
          "name": "stdout",
          "text": [
            "Total participants: 1199\n",
            "trivia\n",
            "0    589.0\n",
            "1    610.0\n",
            "Name: PROLIFIC_PID, dtype: float64\n",
            "true_statement\n",
            "0    585.25\n",
            "1    613.75\n",
            "Name: PROLIFIC_PID, dtype: float64\n",
            "explanation\n",
            "0    588.0\n",
            "1    611.0\n",
            "Name: PROLIFIC_PID, dtype: float64\n",
            "0.5037531276063386\n",
            "0.5118849040867389\n",
            "trivia  explanation\n",
            "0       0              289\n",
            "        1              300\n",
            "1       0              299\n",
            "        1              311\n",
            "Name: PROLIFIC_PID, dtype: int64\n"
          ]
        }
      ],
      "source": [
        "print(f\"Total participants: {df.PROLIFIC_PID.nunique()}\")\n",
        "print(df.groupby(\"trivia\").PROLIFIC_PID.count()/20)\n",
        "print(df.groupby(\"true_statement\").PROLIFIC_PID.count()/20)\n",
        "print(df.groupby(\"explanation\").PROLIFIC_PID.count()/20)\n",
        "print(df['deceptive_feedback'].mean())\n",
        "print(df['true_statement'].mean())\n",
        "\n",
        "\n",
        "print(df.groupby([\"trivia\",\"explanation\"])[\"PROLIFIC_PID\"].nunique()) #\"true_statement\", \"deceptive_feedback\""
      ]
    },
    {
      "cell_type": "markdown",
      "source": [
        "# PROOF OF CONCEPT"
      ],
      "metadata": {
        "id": "al1bPrSImJI5"
      }
    },
    {
      "cell_type": "code",
      "source": [
        "#### PROOF OF CONCEPT\n",
        "\n",
        "\n",
        "x = []\n",
        "\n",
        "i = df.copy()\n",
        "i.stimulus_ID = i.stimulus_ID.astype(int)\n",
        "i.PROLIFIC_PID = pd.Categorical(i.PROLIFIC_PID)\n",
        "i['PROLIFIC_PID2'] = i.PROLIFIC_PID.cat.codes\n",
        "res = sm.OLS(\n",
        "        i[\"second_rating\"],\n",
        "        sm.add_constant(i[[\n",
        "            'true_statement',\n",
        "        ]]),\n",
        "        M=sm.robust.norms.HuberT()).fit(cov_type='cluster', cov_kwds={'groups': np.array(i[['PROLIFIC_PID2',\"stimulus_ID\"]])})\n",
        "res.summary()\n",
        "x.append(res)\n",
        "res = sm.OLS(\n",
        "        i[\"z_rating_delta_accuracy\"],\n",
        "        sm.add_constant(i[[\n",
        "            'true_statement',\n",
        "        ]]),\n",
        "        M=sm.robust.norms.HuberT()).fit(cov_type='cluster', cov_kwds={'groups': np.array(i[['PROLIFIC_PID2',\"stimulus_ID\"]])})\n",
        "res.summary()\n",
        "x.append(res)\n",
        "\n",
        "# By stimulus types\n",
        "for j in [0,1]:\n",
        "    i = df[(df.trivia==j)]\n",
        "    i.stimulus_ID = i.stimulus_ID.astype(int)\n",
        "    i.PROLIFIC_PID = pd.Categorical(i.PROLIFIC_PID)\n",
        "    i['PROLIFIC_PID2'] = i.PROLIFIC_PID.cat.codes\n",
        "    res = sm.OLS(\n",
        "            i[\"second_rating\"],\n",
        "            sm.add_constant(i[[\n",
        "                'true_statement',\n",
        "            ]]),\n",
        "            M=sm.robust.norms.HuberT()).fit(cov_type='cluster', cov_kwds={'groups': np.array(i[['PROLIFIC_PID2',\"stimulus_ID\"]])})\n",
        "    res.summary()\n",
        "    x.append(res)\n",
        "    res = sm.OLS(\n",
        "            i[\"z_rating_delta_accuracy\"],\n",
        "            sm.add_constant(i[[\n",
        "                'true_statement',\n",
        "            ]]),\n",
        "            M=sm.robust.norms.HuberT()).fit(cov_type='cluster', cov_kwds={'groups': np.array(i[['PROLIFIC_PID2',\"stimulus_ID\"]])})\n",
        "    res.summary()\n",
        "    x.append(res)\n",
        "stargazer = Stargazer([x[0],x[1],x[2],x[3],x[4],x[5]])\n",
        "stargazer.covariate_order([\n",
        "                            'const',\n",
        "                            'true_statement',\n",
        "                          ])\n",
        "\n",
        "stargazer.custom_columns(['All Items (2nd Rating)','All Items (Delta Acc)','News Headlines (2nd Rating)','News Headlines (Delta Acc)','Trivia Items (2nd Rating)','Trivia Items (Delta Acc)',],\n",
        "                         [1,1,1,1,\n",
        "                           1,1\n",
        "                         ])\n",
        "\n",
        "stargazer.rename_covariates({\n",
        "                            'const':'Constant',\n",
        "                            'true_statement':'True',\n",
        "                            })\n",
        "stargazer.significant_digits(2)\n",
        "stargazer.show_degrees_of_freedom(False)\n",
        "stargazer.significance_levels([0.05, 0.01, 0.001])\n",
        "stargazer.show_model_numbers(True)\n",
        "\n",
        "p_values_str = []\n",
        "for res in x:\n",
        "    p_value_str = ', '.join([f\"{var}: {p:.4f}\" for var, p in zip(res.params.index, res.pvalues)])\n",
        "    p_values_str.append(p_value_str)\n",
        "\n",
        "HTML(stargazer.render_html())"
      ],
      "metadata": {
        "colab": {
          "base_uri": "https://localhost:8080/",
          "height": 315
        },
        "id": "PtxcJaPkwldA",
        "outputId": "fe6dcb1e-3a10-4954-e83e-a1a993ed832e"
      },
      "execution_count": null,
      "outputs": [
        {
          "output_type": "execute_result",
          "data": {
            "text/plain": [
              "<IPython.core.display.HTML object>"
            ],
            "text/html": [
              "<table style=\"text-align:center\"><tr><td colspan=\"7\" style=\"border-bottom: 1px solid black\"></td></tr><tr><td style=\"text-align:left\"></td><tr><td></td><td colspan=\"1\">All Items (2nd Rating)</td><td colspan=\"1\">All Items (Delta Acc)</td><td colspan=\"1\">News Headlines (2nd Rating)</td><td colspan=\"1\">News Headlines (Delta Acc)</td><td colspan=\"1\">Trivia Items (2nd Rating)</td><td colspan=\"1\">Trivia Items (Delta Acc)</td></tr><tr><td style=\"text-align:left\"></td><td>(1)</td><td>(2)</td><td>(3)</td><td>(4)</td><td>(5)</td><td>(6)</td></tr><tr><td colspan=\"7\" style=\"border-bottom: 1px solid black\"></td></tr><tr><td style=\"text-align:left\">Constant</td><td>2.57<sup>***</sup></td><td>0.02<sup></sup></td><td>2.09<sup>***</sup></td><td>-0.03<sup></sup></td><td>2.87<sup>***</sup></td><td>0.05<sup></sup></td></tr><tr><td style=\"text-align:left\"></td><td>(0.12)</td><td>(0.03)</td><td>(0.15)</td><td>(0.03)</td><td>(0.11)</td><td>(0.04)</td></tr><tr><td style=\"text-align:left\">True</td><td>0.52<sup>***</sup></td><td>-0.04<sup></sup></td><td>1.00<sup>***</sup></td><td>-0.01<sup></sup></td><td>0.20<sup></sup></td><td>-0.04<sup></sup></td></tr><tr><td style=\"text-align:left\"></td><td>(0.14)</td><td>(0.04)</td><td>(0.16)</td><td>(0.04)</td><td>(0.18)</td><td>(0.06)</td></tr><td colspan=\"7\" style=\"border-bottom: 1px solid black\"></td></tr><tr><td style=\"text-align: left\">Observations</td><td>23,980</td><td>23,980</td><td>11,780</td><td>11,780</td><td>12,200</td><td>12,200</td></tr><tr><td style=\"text-align: left\">R<sup>2</sup></td><td>0.03</td><td>0.00</td><td>0.13</td><td>0.00</td><td>0.00</td><td>0.00</td></tr><tr><td style=\"text-align: left\">Adjusted R<sup>2</sup></td><td>0.03</td><td>0.00</td><td>0.13</td><td>-0.00</td><td>0.00</td><td>0.00</td></tr><tr><td style=\"text-align: left\">Residual Std. Error</td><td>1.38</td><td>1.00</td><td>1.26</td><td>0.89</td><td>1.43</td><td>1.09</td></tr><tr><td style=\"text-align: left\">F Statistic</td><td>14.45<sup>***</sup></td><td>1.16<sup></sup></td><td>37.34<sup>***</sup></td><td>0.09<sup></sup></td><td>1.23<sup></sup></td><td>0.48<sup></sup></td></tr><tr><td colspan=\"7\" style=\"border-bottom: 1px solid black\"></td></tr><tr><td style=\"text-align: left\">Note:</td>\n",
              " <td colspan=\"6\" style=\"text-align: right\">\n",
              "  <sup>*</sup>p&lt;0.05;\n",
              "  <sup>**</sup>p&lt;0.01;\n",
              "  <sup>***</sup>p&lt;0.001\n",
              " </td></tr></table>"
            ]
          },
          "metadata": {},
          "execution_count": 47
        }
      ]
    },
    {
      "cell_type": "markdown",
      "source": [
        "# Prereg"
      ],
      "metadata": {
        "id": "fJaLQGzrmNFp"
      }
    },
    {
      "cell_type": "code",
      "source": [
        "#### H2: testing whether honest or deceptive explanations increase discernment across conditions\n",
        "\n",
        "\n",
        "x = []\n",
        "\n",
        "i = df[df.explanation == 1].copy()\n",
        "i.stimulus_ID = i.stimulus_ID.astype(int)\n",
        "i.PROLIFIC_PID = pd.Categorical(i.PROLIFIC_PID)\n",
        "i['PROLIFIC_PID2'] = i.PROLIFIC_PID.cat.codes\n",
        "\"\"\"\n",
        "res = sm.OLS(\n",
        "        i[\"second_rating\"],\n",
        "        sm.add_constant(i[[\n",
        "            'true_statement',\n",
        "            'deceptive_feedback',\n",
        "            'deceptive_feedback_x_true_statement',\n",
        "        ]]),\n",
        "        M=sm.robust.norms.HuberT()).fit(cov_type='cluster', cov_kwds={'groups': np.array(i[['PROLIFIC_PID2',\"stimulus_ID\"]])})\n",
        "res.summary()\n",
        "x.append(res)\n",
        "res = sm.OLS(\n",
        "        i[\"z_rating_delta_accuracy\"],\n",
        "        sm.add_constant(i[[\n",
        "            'true_statement',\n",
        "            'deceptive_feedback',\n",
        "            'deceptive_feedback_x_true_statement',\n",
        "        ]]),\n",
        "        M=sm.robust.norms.HuberT()).fit(cov_type='cluster', cov_kwds={'groups': np.array(i[['PROLIFIC_PID2',\"stimulus_ID\"]])})\n",
        "res.summary()\n",
        "x.append(res)\n",
        "\"\"\"\n",
        "\n",
        "# By stimulus types\n",
        "for j in [0,1]:\n",
        "    i = df[(df.explanation == 1) & (df.trivia==j)]\n",
        "    i.stimulus_ID = i.stimulus_ID.astype(int)\n",
        "    i.PROLIFIC_PID = pd.Categorical(i.PROLIFIC_PID)\n",
        "    i['PROLIFIC_PID2'] = i.PROLIFIC_PID.cat.codes\n",
        "    res = sm.OLS(\n",
        "            i[\"second_rating\"],\n",
        "            sm.add_constant(i[[\n",
        "                'true_statement',\n",
        "                'deceptive_feedback',\n",
        "                'deceptive_feedback_x_true_statement',\n",
        "            ]]),\n",
        "            M=sm.robust.norms.HuberT()).fit(cov_type='cluster', cov_kwds={'groups': np.array(i[['PROLIFIC_PID2',\"stimulus_ID\"]])})\n",
        "    res.summary()\n",
        "    x.append(res)\n",
        "    \"\"\"\n",
        "    res = sm.OLS(\n",
        "            i[\"z_rating_delta_accuracy\"],\n",
        "            sm.add_constant(i[[\n",
        "                'true_statement',\n",
        "                'deceptive_feedback',\n",
        "                'deceptive_feedback_x_true_statement',\n",
        "            ]]),\n",
        "            M=sm.robust.norms.HuberT()).fit(cov_type='cluster', cov_kwds={'groups': np.array(i[['PROLIFIC_PID2',\"stimulus_ID\"]])})\n",
        "    res.summary()\n",
        "    x.append(res)\n",
        "    \"\"\"\n",
        "stargazer = Stargazer([x[0],x[1]#,x[2],x[3],x[4],x[5]\n",
        "                       ])\n",
        "stargazer.covariate_order([\n",
        "                            'const',\n",
        "                            'true_statement',\n",
        "                            'deceptive_feedback',\n",
        "                            'deceptive_feedback_x_true_statement',\n",
        "                          ])\n",
        "\n",
        "stargazer.custom_columns([\n",
        "                          #'All Items (2nd Rating)','All Items (Delta Acc)',\n",
        "                          'News Headlines (2nd Rating)', 'Trivia Items (2nd Rating)'],\n",
        "                         [#1,1,1,1,\n",
        "                           1,1\n",
        "                         ])\n",
        "\n",
        "stargazer.rename_covariates({\n",
        "                            'const':'Constant',\n",
        "                            'true_statement':'True',\n",
        "                            'deceptive_feedback':\"Deceptive Explanations\",\n",
        "                            'deceptive_feedback_x_true_statement': \"Deceptive Explanations * True Statement\",\n",
        "                            })\n",
        "stargazer.significant_digits(2)\n",
        "stargazer.show_degrees_of_freedom(False)\n",
        "stargazer.significance_levels([0.05, 0.01, 0.001])\n",
        "stargazer.show_model_numbers(True)\n",
        "\n",
        "p_values = []\n",
        "for res in x:\n",
        "    p_value_str = ', '.join([f\"{var}: {p:.4f}\" for var, p in zip(res.params.index, res.pvalues)])\n",
        "    p_values.append(p_value_str)\n",
        "\n",
        "HTML(stargazer.render_html())"
      ],
      "metadata": {
        "colab": {
          "base_uri": "https://localhost:8080/",
          "height": 429
        },
        "id": "RitvX6z2xmje",
        "outputId": "0d0d94f0-2e79-4f42-f5ff-63d22b4dc911"
      },
      "execution_count": null,
      "outputs": [
        {
          "output_type": "execute_result",
          "data": {
            "text/plain": [
              "<IPython.core.display.HTML object>"
            ],
            "text/html": [
              "<table style=\"text-align:center\"><tr><td colspan=\"3\" style=\"border-bottom: 1px solid black\"></td></tr><tr><td style=\"text-align:left\"></td><td colspan=\"2\"><em>Dependent variable:second_rating</em></td></tr><tr><td style=\"text-align:left\"></td><tr><td></td><td colspan=\"1\">News Headlines (2nd Rating)</td><td colspan=\"1\">Trivia Items (2nd Rating)</td></tr><tr><td style=\"text-align:left\"></td><td>(1)</td><td>(2)</td></tr><tr><td colspan=\"3\" style=\"border-bottom: 1px solid black\"></td></tr><tr><td style=\"text-align:left\">Constant</td><td>1.61<sup>***</sup></td><td>2.26<sup>***</sup></td></tr><tr><td style=\"text-align:left\"></td><td>(0.10)</td><td>(0.14)</td></tr><tr><td style=\"text-align:left\">True</td><td>2.16<sup>***</sup></td><td>1.62<sup>***</sup></td></tr><tr><td style=\"text-align:left\"></td><td>(0.13)</td><td>(0.19)</td></tr><tr><td style=\"text-align:left\">Deceptive Explanations</td><td>1.03<sup>***</sup></td><td>1.20<sup>***</sup></td></tr><tr><td style=\"text-align:left\"></td><td>(0.14)</td><td>(0.18)</td></tr><tr><td style=\"text-align:left\">Deceptive Explanations * True Statement</td><td>-2.44<sup>***</sup></td><td>-2.86<sup>***</sup></td></tr><tr><td style=\"text-align:left\"></td><td>(0.18)</td><td>(0.21)</td></tr><td colspan=\"3\" style=\"border-bottom: 1px solid black\"></td></tr><tr><td style=\"text-align: left\">Observations</td><td>6,000</td><td>6,220</td></tr><tr><td style=\"text-align: left\">R<sup>2</sup></td><td>0.33</td><td>0.24</td></tr><tr><td style=\"text-align: left\">Adjusted R<sup>2</sup></td><td>0.33</td><td>0.24</td></tr><tr><td style=\"text-align: left\">Residual Std. Error</td><td>1.12</td><td>1.27</td></tr><tr><td style=\"text-align: left\">F Statistic</td><td>165.97<sup>***</sup></td><td>174.87<sup>***</sup></td></tr><tr><td colspan=\"3\" style=\"border-bottom: 1px solid black\"></td></tr><tr><td style=\"text-align: left\">Note:</td>\n",
              " <td colspan=\"2\" style=\"text-align: right\">\n",
              "  <sup>*</sup>p&lt;0.05;\n",
              "  <sup>**</sup>p&lt;0.01;\n",
              "  <sup>***</sup>p&lt;0.001\n",
              " </td></tr></table>"
            ]
          },
          "metadata": {},
          "execution_count": 19
        }
      ]
    },
    {
      "cell_type": "code",
      "source": [
        "p_values"
      ],
      "metadata": {
        "colab": {
          "base_uri": "https://localhost:8080/"
        },
        "id": "dE93JguwzXOW",
        "outputId": "8a59f226-bfcd-4f65-be56-57aa710f1b94"
      },
      "execution_count": null,
      "outputs": [
        {
          "output_type": "execute_result",
          "data": {
            "text/plain": [
              "['const: 0.0000, true_statement: 0.0000, deceptive_feedback: 0.0000, deceptive_feedback_x_true_statement: 0.0000',\n",
              " 'const: 0.0000, true_statement: 0.0000, deceptive_feedback: 0.0000, deceptive_feedback_x_true_statement: 0.0000']"
            ]
          },
          "metadata": {},
          "execution_count": 20
        }
      ]
    },
    {
      "cell_type": "code",
      "source": [
        "#### H2: testing whether honest or deceptive explanations increase discernment across conditions\n",
        "\n",
        "\n",
        "x = []\n",
        "\n",
        "i = df[df.explanation == 1].copy()\n",
        "i.stimulus_ID = i.stimulus_ID.astype(int)\n",
        "i.PROLIFIC_PID = pd.Categorical(i.PROLIFIC_PID)\n",
        "i['PROLIFIC_PID2'] = i.PROLIFIC_PID.cat.codes\n",
        "\n",
        "\n",
        "# By stimulus types\n",
        "for j in [0,1]:\n",
        "    i = df[(df.explanation == 1) & (df.trivia==j)]\n",
        "    i.stimulus_ID = i.stimulus_ID.astype(int)\n",
        "    i.PROLIFIC_PID = pd.Categorical(i.PROLIFIC_PID)\n",
        "    i['PROLIFIC_PID2'] = i.PROLIFIC_PID.cat.codes\n",
        "    res = sm.OLS(\n",
        "            i[\"second_rating\"],\n",
        "            sm.add_constant(i[[\n",
        "                'true_statement',\n",
        "                'honest_feedback',\n",
        "                'honest_feedback_x_true_statement',\n",
        "            ]]),\n",
        "            M=sm.robust.norms.HuberT()).fit(cov_type='cluster', cov_kwds={'groups': np.array(i[['PROLIFIC_PID2',\"stimulus_ID\"]])})\n",
        "    res.summary()\n",
        "    x.append(res)\n",
        "    \"\"\"\n",
        "    res = sm.OLS(\n",
        "            i[\"z_rating_delta_accuracy\"],\n",
        "            sm.add_constant(i[[\n",
        "                'true_statement',\n",
        "                'honest_feedback',\n",
        "                'honest_feedback_x_true_statement',\n",
        "            ]]),\n",
        "            M=sm.robust.norms.HuberT()).fit(cov_type='cluster', cov_kwds={'groups': np.array(i[['PROLIFIC_PID2',\"stimulus_ID\"]])})\n",
        "    res.summary()\n",
        "    x.append(res)\n",
        "    \"\"\"\n",
        "stargazer = Stargazer([x[0],x[1]#,x[2],x[3],x[4],x[5]\n",
        "                       ])\n",
        "stargazer.covariate_order([\n",
        "                            'const',\n",
        "                            'true_statement',\n",
        "                            'honest_feedback',\n",
        "                            'honest_feedback_x_true_statement',\n",
        "                          ])\n",
        "\n",
        "stargazer.custom_columns([\n",
        "                          #'All Items (2nd Rating)','All Items (Delta Acc)',\n",
        "                          'News Headlines (2nd Rating)', 'Trivia Items (2nd Rating)'],\n",
        "                         [#1,1,1,1,\n",
        "                           1,1\n",
        "                         ])\n",
        "\n",
        "stargazer.rename_covariates({\n",
        "                            'const':'Constant',\n",
        "                            'true_statement':'True',\n",
        "                            'honest_feedback':\"Honest Explanations\",\n",
        "                            'honest_feedback_x_true_statement': \"Honest Explanations * True Statement\",\n",
        "                            })\n",
        "stargazer.significant_digits(2)\n",
        "stargazer.show_degrees_of_freedom(False)\n",
        "stargazer.significance_levels([0.05, 0.01, 0.001])\n",
        "stargazer.show_model_numbers(True)\n",
        "\n",
        "p_values = []\n",
        "for res in x:\n",
        "    p_value_str = ', '.join([f\"{var}: {p:.4f}\" for var, p in zip(res.params.index, res.pvalues)])\n",
        "    p_values.append(p_value_str)\n",
        "\n",
        "HTML(stargazer.render_html())"
      ],
      "metadata": {
        "colab": {
          "base_uri": "https://localhost:8080/",
          "height": 429
        },
        "id": "Q534aFQekRAT",
        "outputId": "3acc23d3-82fc-4280-e690-7b58c26170a1"
      },
      "execution_count": null,
      "outputs": [
        {
          "output_type": "execute_result",
          "data": {
            "text/plain": [
              "<IPython.core.display.HTML object>"
            ],
            "text/html": [
              "<table style=\"text-align:center\"><tr><td colspan=\"3\" style=\"border-bottom: 1px solid black\"></td></tr><tr><td style=\"text-align:left\"></td><td colspan=\"2\"><em>Dependent variable:second_rating</em></td></tr><tr><td style=\"text-align:left\"></td><tr><td></td><td colspan=\"1\">News Headlines (2nd Rating)</td><td colspan=\"1\">Trivia Items (2nd Rating)</td></tr><tr><td style=\"text-align:left\"></td><td>(1)</td><td>(2)</td></tr><tr><td colspan=\"3\" style=\"border-bottom: 1px solid black\"></td></tr><tr><td style=\"text-align:left\">Constant</td><td>2.64<sup>***</sup></td><td>3.47<sup>***</sup></td></tr><tr><td style=\"text-align:left\"></td><td>(0.22)</td><td>(0.11)</td></tr><tr><td style=\"text-align:left\">True</td><td>-0.28<sup></sup></td><td>-1.23<sup>***</sup></td></tr><tr><td style=\"text-align:left\"></td><td>(0.23)</td><td>(0.19)</td></tr><tr><td style=\"text-align:left\">Honest Explanations</td><td>-1.03<sup>***</sup></td><td>-1.20<sup>***</sup></td></tr><tr><td style=\"text-align:left\"></td><td>(0.14)</td><td>(0.18)</td></tr><tr><td style=\"text-align:left\">Honest Explanations * True Statement</td><td>2.44<sup>***</sup></td><td>2.86<sup>***</sup></td></tr><tr><td style=\"text-align:left\"></td><td>(0.18)</td><td>(0.21)</td></tr><td colspan=\"3\" style=\"border-bottom: 1px solid black\"></td></tr><tr><td style=\"text-align: left\">Observations</td><td>6,000</td><td>6,220</td></tr><tr><td style=\"text-align: left\">R<sup>2</sup></td><td>0.33</td><td>0.24</td></tr><tr><td style=\"text-align: left\">Adjusted R<sup>2</sup></td><td>0.33</td><td>0.24</td></tr><tr><td style=\"text-align: left\">Residual Std. Error</td><td>1.12</td><td>1.27</td></tr><tr><td style=\"text-align: left\">F Statistic</td><td>165.97<sup>***</sup></td><td>174.87<sup>***</sup></td></tr><tr><td colspan=\"3\" style=\"border-bottom: 1px solid black\"></td></tr><tr><td style=\"text-align: left\">Note:</td>\n",
              " <td colspan=\"2\" style=\"text-align: right\">\n",
              "  <sup>*</sup>p&lt;0.05;\n",
              "  <sup>**</sup>p&lt;0.01;\n",
              "  <sup>***</sup>p&lt;0.001\n",
              " </td></tr></table>"
            ]
          },
          "metadata": {},
          "execution_count": 5
        }
      ]
    },
    {
      "cell_type": "code",
      "source": [
        "p_values"
      ],
      "metadata": {
        "colab": {
          "base_uri": "https://localhost:8080/"
        },
        "id": "yz2hw68QkrCT",
        "outputId": "d304359c-12eb-4a0c-85d6-5ac882cac2df"
      },
      "execution_count": null,
      "outputs": [
        {
          "output_type": "execute_result",
          "data": {
            "text/plain": [
              "['const: 0.0000, true_statement: 0.2309, honest_feedback: 0.0000, honest_feedback_x_true_statement: 0.0000',\n",
              " 'const: 0.0000, true_statement: 0.0000, honest_feedback: 0.0000, honest_feedback_x_true_statement: 0.0000']"
            ]
          },
          "metadata": {},
          "execution_count": 6
        }
      ]
    },
    {
      "cell_type": "code",
      "source": [
        "#### H1: testing whether honest or deceptive explanations increase discernment across conditions ## fully connected model\n",
        "\n",
        "x = []\n",
        "\n",
        "i = df.copy()\n",
        "i.stimulus_ID = i.stimulus_ID.astype(int)\n",
        "i.PROLIFIC_PID = pd.Categorical(i.PROLIFIC_PID)\n",
        "i['PROLIFIC_PID2'] = i.PROLIFIC_PID.cat.codes\n",
        "res = sm.OLS(\n",
        "        i[\"second_rating\"],\n",
        "        sm.add_constant(i[[\n",
        "            'true_statement',\n",
        "            'deceptive_feedback',\n",
        "            'explanation',\n",
        "            \"deceptive_feedback_x_true_statement\",\n",
        "            'explanation_x_true_statement',\n",
        "            'explanation_x_deceptive_feedback',\n",
        "            \"deceptive_feedback_x_ts_x_explanation\"\n",
        "        ]]),\n",
        "        M=sm.robust.norms.HuberT()).fit(cov_type='cluster', cov_kwds={'groups': np.array(i[['PROLIFIC_PID2',\"stimulus_ID\"]])})\n",
        "res.summary()\n",
        "res.dvar = \"All (2nd Rating)\"\n",
        "x.append(res)\n",
        "res = sm.OLS(\n",
        "        i[\"z_rating_delta\"],\n",
        "        sm.add_constant(i[[\n",
        "            'true_statement',\n",
        "            'deceptive_feedback',\n",
        "            'explanation',\n",
        "            \"deceptive_feedback_x_true_statement\",\n",
        "            'explanation_x_true_statement',\n",
        "            'explanation_x_deceptive_feedback',\n",
        "            \"deceptive_feedback_x_ts_x_explanation\"\n",
        "        ]]),\n",
        "        M=sm.robust.norms.HuberT()).fit(cov_type='cluster', cov_kwds={'groups': np.array(i[['PROLIFIC_PID2',\"stimulus_ID\"]])})\n",
        "res.summary()\n",
        "res.dvar = \"All (Delta Acc)\"\n",
        "x.append(res)\n",
        "\n",
        "# By stimulus types\n",
        "for j in [0,1]:\n",
        "    i = df[(df.trivia==j)]\n",
        "    i.stimulus_ID = i.stimulus_ID.astype(int)\n",
        "    i.PROLIFIC_PID = pd.Categorical(i.PROLIFIC_PID)\n",
        "    i['PROLIFIC_PID2'] = i.PROLIFIC_PID.cat.codes\n",
        "    res = sm.OLS(\n",
        "            i[\"second_rating\"],\n",
        "            sm.add_constant(i[[\n",
        "                'true_statement',\n",
        "                'deceptive_feedback',\n",
        "                'explanation',\n",
        "                \"deceptive_feedback_x_true_statement\",\n",
        "                'explanation_x_true_statement',\n",
        "                'explanation_x_deceptive_feedback',\n",
        "                \"deceptive_feedback_x_ts_x_explanation\"\n",
        "            ]]),\n",
        "            M=sm.robust.norms.HuberT()).fit(cov_type='cluster', cov_kwds={'groups': np.array(i[['PROLIFIC_PID2',\"stimulus_ID\"]])})\n",
        "    res.summary()\n",
        "    res.dvar = \"Trivia (2nd Rating)\" if j == 1 else \"News (2nd Rating)\"\n",
        "    x.append(res)\n",
        "    res = sm.OLS(\n",
        "            i[\"z_rating_delta\"],\n",
        "            sm.add_constant(i[[\n",
        "                'true_statement',\n",
        "                'deceptive_feedback',\n",
        "                'explanation',\n",
        "                \"deceptive_feedback_x_true_statement\",\n",
        "                'explanation_x_true_statement',\n",
        "                'explanation_x_deceptive_feedback',\n",
        "                \"deceptive_feedback_x_ts_x_explanation\"\n",
        "            ]]),\n",
        "            M=sm.robust.norms.HuberT()).fit(cov_type='cluster', cov_kwds={'groups': np.array(i[['PROLIFIC_PID2',\"stimulus_ID\"]])})\n",
        "    res.summary()\n",
        "    res.dvar = \"Trivia (Delta Rating)\" if j == 1 else \"News (Delta Rating)\"\n",
        "    x.append(res)\n",
        "stargazer = Stargazer([x[0],x[1],x[2],x[3],x[4],x[5]])\n",
        "stargazer.covariate_order([\n",
        "                            'const',\n",
        "                            'true_statement',\n",
        "                            'explanation',\n",
        "                            'deceptive_feedback',\n",
        "                            'explanation_x_true_statement',\n",
        "                            \"deceptive_feedback_x_true_statement\",\n",
        "                            'explanation_x_deceptive_feedback',\n",
        "                            \"deceptive_feedback_x_ts_x_explanation\"\n",
        "                          ])\n",
        "\n",
        "stargazer.custom_columns(['All Items (2nd Rating)','All Items (Delta Rating)','News Headlines (2nd Rating)','News Headlines (Delta Rating)','Trivia Items (2nd Rating)','Trivia Items (Delta Rating)',],\n",
        "                         [1,1,1,1,\n",
        "                           1,1\n",
        "                         ])\n",
        "\n",
        "stargazer.rename_covariates({\n",
        "                            'const':'Constant',\n",
        "                            'true_statement':'True Statement',\n",
        "                            'explanation':\"LLM Explanation\",\n",
        "                            'deceptive_feedback':'Deceptive Feedback',\n",
        "                            \"deceptive_feedback_x_true_statement\": \"Deceptive Feedback * True Statement\",\n",
        "                            'explanation_x_true_statement': \"LLM Explanation * True Statement\",\n",
        "                            'explanation_x_deceptive_feedback': \"Deceptive Feedback * LLM Explanation\",\n",
        "                            \"deceptive_feedback_x_ts_x_explanation\": \"Deceptive Feedback * LLM Explanation * True Statement\"\n",
        "                            })\n",
        "stargazer.significant_digits(2)\n",
        "stargazer.show_degrees_of_freedom(False)\n",
        "stargazer.significance_levels([0.05, 0.01, 0.001])\n",
        "stargazer.show_model_numbers(True)\n",
        "\n",
        "p_values_str = []\n",
        "for res in x:\n",
        "    p_value_str = res.dvar+': '+', '.join([f\"{var}: {p:.4f}\" for var, p in zip(res.params.index, res.pvalues)])\n",
        "    p_values_str.append(p_value_str)\n",
        "\n",
        "HTML(stargazer.render_html())\n",
        "#latex_table = stargazer.render_latex()\n",
        "#print(latex_table)"
      ],
      "metadata": {
        "colab": {
          "base_uri": "https://localhost:8080/",
          "height": 591
        },
        "id": "l3wWo3AOv0x2",
        "outputId": "abee150d-1efc-4394-b4a5-4a79fb2568f9"
      },
      "execution_count": null,
      "outputs": [
        {
          "output_type": "execute_result",
          "data": {
            "text/plain": [
              "<IPython.core.display.HTML object>"
            ],
            "text/html": [
              "<table style=\"text-align:center\"><tr><td colspan=\"7\" style=\"border-bottom: 1px solid black\"></td></tr><tr><td style=\"text-align:left\"></td><tr><td></td><td colspan=\"1\">All Items (2nd Rating)</td><td colspan=\"1\">All Items (Delta Rating)</td><td colspan=\"1\">News Headlines (2nd Rating)</td><td colspan=\"1\">News Headlines (Delta Rating)</td><td colspan=\"1\">Trivia Items (2nd Rating)</td><td colspan=\"1\">Trivia Items (Delta Rating)</td></tr><tr><td style=\"text-align:left\"></td><td>(1)</td><td>(2)</td><td>(3)</td><td>(4)</td><td>(5)</td><td>(6)</td></tr><tr><td colspan=\"7\" style=\"border-bottom: 1px solid black\"></td></tr><tr><td style=\"text-align:left\">Constant</td><td>2.05<sup>***</sup></td><td>-0.35<sup>***</sup></td><td>1.68<sup>***</sup></td><td>-0.19<sup>***</sup></td><td>2.29<sup>***</sup></td><td>-0.46<sup>***</sup></td></tr><tr><td style=\"text-align:left\"></td><td>(0.12)</td><td>(0.05)</td><td>(0.11)</td><td>(0.04)</td><td>(0.15)</td><td>(0.07)</td></tr><tr><td style=\"text-align:left\">True Statement</td><td>1.64<sup>***</sup></td><td>0.77<sup>***</sup></td><td>1.94<sup>***</sup></td><td>0.54<sup>***</sup></td><td>1.52<sup>***</sup></td><td>0.95<sup>***</sup></td></tr><tr><td style=\"text-align:left\"></td><td>(0.14)</td><td>(0.06)</td><td>(0.14)</td><td>(0.05)</td><td>(0.22)</td><td>(0.09)</td></tr><tr><td style=\"text-align:left\">LLM Explanation</td><td>-0.04<sup></sup></td><td>0.02<sup></sup></td><td>-0.07<sup></sup></td><td>-0.04<sup></sup></td><td>-0.02<sup></sup></td><td>0.06<sup></sup></td></tr><tr><td style=\"text-align:left\"></td><td>(0.05)</td><td>(0.05)</td><td>(0.06)</td><td>(0.04)</td><td>(0.06)</td><td>(0.07)</td></tr><tr><td style=\"text-align:left\">Deceptive Feedback</td><td>0.99<sup>***</sup></td><td>0.84<sup>***</sup></td><td>0.71<sup>***</sup></td><td>0.60<sup>***</sup></td><td>1.19<sup>***</sup></td><td>0.99<sup>***</sup></td></tr><tr><td style=\"text-align:left\"></td><td>(0.09)</td><td>(0.07)</td><td>(0.10)</td><td>(0.06)</td><td>(0.10)</td><td>(0.09)</td></tr><tr><td style=\"text-align:left\">LLM Explanation * True Statement</td><td>0.17<sup>*</sup></td><td>0.10<sup></sup></td><td>0.22<sup>**</sup></td><td>0.15<sup>*</sup></td><td>0.11<sup></sup></td><td>0.07<sup></sup></td></tr><tr><td style=\"text-align:left\"></td><td>(0.07)</td><td>(0.07)</td><td>(0.08)</td><td>(0.06)</td><td>(0.11)</td><td>(0.11)</td></tr><tr><td style=\"text-align:left\">Deceptive Feedback * True Statement</td><td>-2.15<sup>***</sup></td><td>-1.78<sup>***</sup></td><td>-1.72<sup>***</sup></td><td>-1.46<sup>***</sup></td><td>-2.57<sup>***</sup></td><td>-2.06<sup>***</sup></td></tr><tr><td style=\"text-align:left\"></td><td>(0.12)</td><td>(0.10)</td><td>(0.14)</td><td>(0.10)</td><td>(0.15)</td><td>(0.13)</td></tr><tr><td style=\"text-align:left\">Deceptive Feedback * LLM Explanation</td><td>0.14<sup></sup></td><td>0.06<sup></sup></td><td>0.32<sup>**</sup></td><td>0.19<sup>*</sup></td><td>0.01<sup></sup></td><td>-0.03<sup></sup></td></tr><tr><td style=\"text-align:left\"></td><td>(0.11)</td><td>(0.08)</td><td>(0.12)</td><td>(0.08)</td><td>(0.15)</td><td>(0.12)</td></tr><tr><td style=\"text-align:left\">Deceptive Feedback * LLM Explanation * True Statement</td><td>-0.49<sup>**</sup></td><td>-0.38<sup>**</sup></td><td>-0.72<sup>***</sup></td><td>-0.53<sup>***</sup></td><td>-0.28<sup></sup></td><td>-0.27<sup></sup></td></tr><tr><td style=\"text-align:left\"></td><td>(0.15)</td><td>(0.12)</td><td>(0.19)</td><td>(0.14)</td><td>(0.22)</td><td>(0.18)</td></tr><td colspan=\"7\" style=\"border-bottom: 1px solid black\"></td></tr><tr><td style=\"text-align: left\">Observations</td><td>23,980</td><td>23,980</td><td>11,780</td><td>11,780</td><td>12,200</td><td>12,200</td></tr><tr><td style=\"text-align: left\">R<sup>2</sup></td><td>0.22</td><td>0.26</td><td>0.30</td><td>0.29</td><td>0.22</td><td>0.25</td></tr><tr><td style=\"text-align: left\">Adjusted R<sup>2</sup></td><td>0.22</td><td>0.26</td><td>0.30</td><td>0.29</td><td>0.22</td><td>0.25</td></tr><tr><td style=\"text-align: left\">Residual Std. Error</td><td>1.23</td><td>0.86</td><td>1.13</td><td>0.76</td><td>1.27</td><td>0.94</td></tr><tr><td style=\"text-align: left\">F Statistic</td><td>142.85<sup>***</sup></td><td>133.35<sup>***</sup></td><td>109.34<sup>***</sup></td><td>81.70<sup>***</sup></td><td>151.22<sup>***</sup></td><td>89.57<sup>***</sup></td></tr><tr><td colspan=\"7\" style=\"border-bottom: 1px solid black\"></td></tr><tr><td style=\"text-align: left\">Note:</td>\n",
              " <td colspan=\"6\" style=\"text-align: right\">\n",
              "  <sup>*</sup>p&lt;0.05;\n",
              "  <sup>**</sup>p&lt;0.01;\n",
              "  <sup>***</sup>p&lt;0.001\n",
              " </td></tr></table>"
            ]
          },
          "metadata": {},
          "execution_count": 21
        }
      ]
    },
    {
      "cell_type": "code",
      "source": [
        "for p in p_values_str:\n",
        "  print(p)"
      ],
      "metadata": {
        "colab": {
          "base_uri": "https://localhost:8080/"
        },
        "id": "dvv35-eWlxOy",
        "outputId": "75dd4046-5936-4f20-fb33-530fb5e4ed56"
      },
      "execution_count": null,
      "outputs": [
        {
          "output_type": "stream",
          "name": "stdout",
          "text": [
            "All (2nd Rating): const: 0.0000, true_statement: 0.0000, deceptive_feedback: 0.0000, explanation: 0.3869, deceptive_feedback_x_true_statement: 0.0000, explanation_x_true_statement: 0.0177, explanation_x_deceptive_feedback: 0.1893, deceptive_feedback_x_ts_x_explanation: 0.0013\n",
            "All (Delta Acc): const: 0.0000, true_statement: 0.0000, deceptive_feedback: 0.0000, explanation: 0.6596, deceptive_feedback_x_true_statement: 0.0000, explanation_x_true_statement: 0.1359, explanation_x_deceptive_feedback: 0.4860, deceptive_feedback_x_ts_x_explanation: 0.0015\n",
            "News (2nd Rating): const: 0.0000, true_statement: 0.0000, deceptive_feedback: 0.0000, explanation: 0.2107, deceptive_feedback_x_true_statement: 0.0000, explanation_x_true_statement: 0.0085, explanation_x_deceptive_feedback: 0.0081, deceptive_feedback_x_ts_x_explanation: 0.0001\n",
            "News (Delta Rating): const: 0.0000, true_statement: 0.0000, deceptive_feedback: 0.0000, explanation: 0.3119, deceptive_feedback_x_true_statement: 0.0000, explanation_x_true_statement: 0.0157, explanation_x_deceptive_feedback: 0.0152, deceptive_feedback_x_ts_x_explanation: 0.0001\n",
            "Trivia (2nd Rating): const: 0.0000, true_statement: 0.0000, deceptive_feedback: 0.0000, explanation: 0.7277, deceptive_feedback_x_true_statement: 0.0000, explanation_x_true_statement: 0.3146, explanation_x_deceptive_feedback: 0.9373, deceptive_feedback_x_ts_x_explanation: 0.1905\n",
            "Trivia (Delta Rating): const: 0.0000, true_statement: 0.0000, deceptive_feedback: 0.0000, explanation: 0.3818, deceptive_feedback_x_true_statement: 0.0000, explanation_x_true_statement: 0.4960, explanation_x_deceptive_feedback: 0.7842, deceptive_feedback_x_ts_x_explanation: 0.1313\n"
          ]
        }
      ]
    },
    {
      "cell_type": "code",
      "source": [
        "#### H1: testing whether honest or deceptive explanations increase discernment across conditions ## fully connected model\n",
        "\n",
        "x = []\n",
        "\n",
        "# By stimulus types\n",
        "for j in [0,1]:\n",
        "    i = df[(df.trivia==j)]\n",
        "    i.stimulus_ID = i.stimulus_ID.astype(int)\n",
        "    i.PROLIFIC_PID = pd.Categorical(i.PROLIFIC_PID)\n",
        "    i['PROLIFIC_PID2'] = i.PROLIFIC_PID.cat.codes\n",
        "    res = sm.OLS(\n",
        "            i[\"second_rating\"],\n",
        "            sm.add_constant(i[[\n",
        "                'true_statement',\n",
        "                'deceptive_feedback',\n",
        "                'explanation',\n",
        "                \"deceptive_feedback_x_true_statement\",\n",
        "                'explanation_x_true_statement',\n",
        "                'explanation_x_deceptive_feedback',\n",
        "                \"deceptive_feedback_x_ts_x_explanation\"\n",
        "            ]]),\n",
        "            M=sm.robust.norms.HuberT()).fit(cov_type='cluster', cov_kwds={'groups': np.array(i[['PROLIFIC_PID2',\"stimulus_ID\"]])})\n",
        "    res.summary()\n",
        "    res.dvar = \"Trivia\" if j == 1 else \"News\"\n",
        "    x.append(res)\n",
        "stargazer = Stargazer([x[0],x[1]])\n",
        "stargazer.covariate_order([\n",
        "                            'const',\n",
        "                            'true_statement',\n",
        "                            'explanation',\n",
        "                            'deceptive_feedback',\n",
        "                            'explanation_x_true_statement',\n",
        "                            \"deceptive_feedback_x_true_statement\",\n",
        "                            'explanation_x_deceptive_feedback',\n",
        "                            \"deceptive_feedback_x_ts_x_explanation\"\n",
        "                          ])\n",
        "\n",
        "stargazer.custom_columns(['News Headlines','Trivia Items',],\n",
        "                         [1,1,\n",
        "                          #1,1,\n",
        "                          #1,1\n",
        "                         ])\n",
        "\n",
        "stargazer.rename_covariates({\n",
        "                            'const':'Constant',\n",
        "                            'true_statement':'True Statement',\n",
        "                            'explanation':\"LLM Explanation\",\n",
        "                            'deceptive_feedback':'Deceptive Feedback',\n",
        "                            \"deceptive_feedback_x_true_statement\": \"Deceptive Feedback * True Statement\",\n",
        "                            'explanation_x_true_statement': \"LLM Explanation * True Statement\",\n",
        "                            'explanation_x_deceptive_feedback': \"Deceptive Feedback * LLM Explanation\",\n",
        "                            \"deceptive_feedback_x_ts_x_explanation\": \"Deceptive Feedback * LLM Explanation * True Statement\"\n",
        "                            })\n",
        "stargazer.significant_digits(2)\n",
        "stargazer.show_degrees_of_freedom(False)\n",
        "stargazer.significance_levels([0.05, 0.01, 0.001])\n",
        "stargazer.show_model_numbers(True)\n",
        "\n",
        "p_values = []\n",
        "for res in x:\n",
        "    p_value_str = ', '.join([f\"{var}: {p:.4f}\" for var, p in zip(res.params.index, res.pvalues)])\n",
        "    p_values.append(p_value_str)\n",
        "\n",
        "HTML(stargazer.render_html())\n",
        "#latex_table = stargazer.render_latex()\n",
        "#print(latex_table)"
      ],
      "metadata": {
        "colab": {
          "base_uri": "https://localhost:8080/",
          "height": 612
        },
        "id": "BGxyTu9UvF1A",
        "outputId": "db93786c-c043-44ea-88fe-5e0f8297f00a"
      },
      "execution_count": null,
      "outputs": [
        {
          "output_type": "execute_result",
          "data": {
            "text/plain": [
              "<IPython.core.display.HTML object>"
            ],
            "text/html": [
              "<table style=\"text-align:center\"><tr><td colspan=\"3\" style=\"border-bottom: 1px solid black\"></td></tr><tr><td style=\"text-align:left\"></td><td colspan=\"2\"><em>Dependent variable:second_rating</em></td></tr><tr><td style=\"text-align:left\"></td><tr><td></td><td colspan=\"1\">News Headlines</td><td colspan=\"1\">Trivia Items</td></tr><tr><td style=\"text-align:left\"></td><td>(1)</td><td>(2)</td></tr><tr><td colspan=\"3\" style=\"border-bottom: 1px solid black\"></td></tr><tr><td style=\"text-align:left\">Constant</td><td>1.68<sup>***</sup></td><td>2.29<sup>***</sup></td></tr><tr><td style=\"text-align:left\"></td><td>(0.11)</td><td>(0.15)</td></tr><tr><td style=\"text-align:left\">True Statement</td><td>1.94<sup>***</sup></td><td>1.52<sup>***</sup></td></tr><tr><td style=\"text-align:left\"></td><td>(0.14)</td><td>(0.22)</td></tr><tr><td style=\"text-align:left\">LLM Explanation</td><td>-0.07<sup></sup></td><td>-0.02<sup></sup></td></tr><tr><td style=\"text-align:left\"></td><td>(0.06)</td><td>(0.06)</td></tr><tr><td style=\"text-align:left\">Deceptive Feedback</td><td>0.71<sup>***</sup></td><td>1.19<sup>***</sup></td></tr><tr><td style=\"text-align:left\"></td><td>(0.10)</td><td>(0.10)</td></tr><tr><td style=\"text-align:left\">LLM Explanation * True Statement</td><td>0.22<sup>**</sup></td><td>0.11<sup></sup></td></tr><tr><td style=\"text-align:left\"></td><td>(0.08)</td><td>(0.11)</td></tr><tr><td style=\"text-align:left\">Deceptive Feedback * True Statement</td><td>-1.72<sup>***</sup></td><td>-2.57<sup>***</sup></td></tr><tr><td style=\"text-align:left\"></td><td>(0.14)</td><td>(0.15)</td></tr><tr><td style=\"text-align:left\">Deceptive Feedback * LLM Explanation</td><td>0.32<sup>**</sup></td><td>0.01<sup></sup></td></tr><tr><td style=\"text-align:left\"></td><td>(0.12)</td><td>(0.15)</td></tr><tr><td style=\"text-align:left\">Deceptive Feedback * LLM Explanation * True Statement</td><td>-0.72<sup>***</sup></td><td>-0.28<sup></sup></td></tr><tr><td style=\"text-align:left\"></td><td>(0.19)</td><td>(0.22)</td></tr><td colspan=\"3\" style=\"border-bottom: 1px solid black\"></td></tr><tr><td style=\"text-align: left\">Observations</td><td>11,780</td><td>12,200</td></tr><tr><td style=\"text-align: left\">R<sup>2</sup></td><td>0.30</td><td>0.22</td></tr><tr><td style=\"text-align: left\">Adjusted R<sup>2</sup></td><td>0.30</td><td>0.22</td></tr><tr><td style=\"text-align: left\">Residual Std. Error</td><td>1.13</td><td>1.27</td></tr><tr><td style=\"text-align: left\">F Statistic</td><td>109.34<sup>***</sup></td><td>151.22<sup>***</sup></td></tr><tr><td colspan=\"3\" style=\"border-bottom: 1px solid black\"></td></tr><tr><td style=\"text-align: left\">Note:</td>\n",
              " <td colspan=\"2\" style=\"text-align: right\">\n",
              "  <sup>*</sup>p&lt;0.05;\n",
              "  <sup>**</sup>p&lt;0.01;\n",
              "  <sup>***</sup>p&lt;0.001\n",
              " </td></tr></table>"
            ]
          },
          "metadata": {},
          "execution_count": 24
        }
      ]
    },
    {
      "cell_type": "code",
      "source": [
        "p_values"
      ],
      "metadata": {
        "colab": {
          "base_uri": "https://localhost:8080/"
        },
        "id": "V2_O-ghu5c7u",
        "outputId": "a8b589ce-5fef-4031-f5e9-c571cc183701"
      },
      "execution_count": null,
      "outputs": [
        {
          "output_type": "execute_result",
          "data": {
            "text/plain": [
              "['const: 0.0000, true_statement: 0.0000, deceptive_feedback: 0.0000, explanation: 0.2107, deceptive_feedback_x_true_statement: 0.0000, explanation_x_true_statement: 0.0085, explanation_x_deceptive_feedback: 0.0081, deceptive_feedback_x_ts_x_explanation: 0.0001',\n",
              " 'const: 0.0000, true_statement: 0.0000, deceptive_feedback: 0.0000, explanation: 0.7277, deceptive_feedback_x_true_statement: 0.0000, explanation_x_true_statement: 0.3146, explanation_x_deceptive_feedback: 0.9373, deceptive_feedback_x_ts_x_explanation: 0.1905']"
            ]
          },
          "metadata": {},
          "execution_count": 25
        }
      ]
    },
    {
      "cell_type": "code",
      "source": [
        "#### testing whether honest or deceptive explanations increase discernment\n",
        "\n",
        "\n",
        "x = []\n",
        "\n",
        "# regardless of stimulus type\n",
        "i = df.copy()\n",
        "i.stimulus_ID = i.stimulus_ID.astype(int)\n",
        "i.PROLIFIC_PID = pd.Categorical(i.PROLIFIC_PID)\n",
        "i['PROLIFIC_PID2'] = i.PROLIFIC_PID.cat.codes\n",
        "res = sm.OLS(\n",
        "        i[\"second_rating\"],\n",
        "        sm.add_constant(i[[\n",
        "            'true_statement',\n",
        "            'deceptive_feedback',\n",
        "            \"deceptive_feedback_x_true_statement\",\n",
        "        ]]),\n",
        "        M=sm.robust.norms.HuberT()).fit(cov_type='cluster', cov_kwds={'groups': np.array(i[['PROLIFIC_PID2',\"stimulus_ID\"]])})\n",
        "res.summary()\n",
        "x.append(res)\n",
        "res = sm.OLS(\n",
        "        i[\"z_rating_delta\"],\n",
        "        sm.add_constant(i[[\n",
        "            'true_statement',\n",
        "            'deceptive_feedback',\n",
        "            \"deceptive_feedback_x_true_statement\",\n",
        "        ]]),\n",
        "        M=sm.robust.norms.HuberT()).fit(cov_type='cluster', cov_kwds={'groups': np.array(i[['PROLIFIC_PID2',\"stimulus_ID\"]])})\n",
        "res.summary()\n",
        "x.append(res)\n",
        "\n",
        "\n",
        "\n",
        "\n",
        "# by stimulus type\n",
        "for j in [0,1]:\n",
        "    i = df[(df.trivia==j)]\n",
        "    i.stimulus_ID = i.stimulus_ID.astype(int)\n",
        "    i.PROLIFIC_PID = pd.Categorical(i.PROLIFIC_PID)\n",
        "    i['PROLIFIC_PID2'] = i.PROLIFIC_PID.cat.codes\n",
        "    res = sm.OLS(\n",
        "            i[\"second_rating\"],\n",
        "            sm.add_constant(i[[\n",
        "                'true_statement',\n",
        "                'deceptive_feedback',\n",
        "                \"deceptive_feedback_x_true_statement\",\n",
        "            ]]),\n",
        "            M=sm.robust.norms.HuberT()).fit(cov_type='cluster', cov_kwds={'groups': np.array(i[['PROLIFIC_PID2',\"stimulus_ID\"]])})\n",
        "    res.summary()\n",
        "    x.append(res)\n",
        "    res = sm.OLS(\n",
        "            i[\"z_rating_delta\"],\n",
        "            sm.add_constant(i[[\n",
        "                'true_statement',\n",
        "                'deceptive_feedback',\n",
        "                \"deceptive_feedback_x_true_statement\",\n",
        "            ]]),\n",
        "            M=sm.robust.norms.HuberT()).fit(cov_type='cluster', cov_kwds={'groups': np.array(i[['PROLIFIC_PID2',\"stimulus_ID\"]])})\n",
        "    res.summary()\n",
        "    x.append(res)\n",
        "stargazer = Stargazer([x[0],x[1],x[2],x[3],\n",
        "                        x[4],x[5]\n",
        "                      ])\n",
        "stargazer.covariate_order([\n",
        "                            'const',\n",
        "                            'true_statement',\n",
        "                            'deceptive_feedback',\n",
        "                            \"deceptive_feedback_x_true_statement\",\n",
        "                          ])\n",
        "\n",
        "stargazer.custom_columns(['All Items (2nd Rating)', 'All Items (Delta Acc)', 'News Headlines (2nd Rating)','News Headlines (Delta Acc)','Trivia Items (2nd Rating)','Trivia Items (Delta Acc)',],\n",
        "                         [1,1,1,1,\n",
        "                           1,1\n",
        "                         ])\n",
        "\n",
        "stargazer.rename_covariates({\n",
        "                            'const':'Constant',\n",
        "                            'true_statement':'True',\n",
        "                            'deceptive_feedback':'Deceptive Feedback',\n",
        "                            \"deceptive_feedback_x_true_statement\": \"Deceptive Feedback * True Statement\",\n",
        "                            })\n",
        "stargazer.significant_digits(2)\n",
        "stargazer.show_degrees_of_freedom(False)\n",
        "stargazer.significance_levels([0.05, 0.01, 0.001])\n",
        "stargazer.show_model_numbers(True)\n",
        "\n",
        "p_values_str = []\n",
        "for res in x:\n",
        "    p_value_str = ', '.join([f\"{var}: {p:.4f}\" for var, p in zip(res.params.index, res.pvalues)])\n",
        "    p_values_str.append(p_value_str)\n",
        "\n",
        "HTML(stargazer.render_html())\n",
        "\n",
        "#latex_table = stargazer.render_latex()\n",
        "#print(latex_table)"
      ],
      "metadata": {
        "colab": {
          "base_uri": "https://localhost:8080/",
          "height": 406
        },
        "id": "O8BhCQacSeVZ",
        "outputId": "188dfb73-811a-4735-8a24-3ef9fd61d982"
      },
      "execution_count": null,
      "outputs": [
        {
          "output_type": "execute_result",
          "data": {
            "text/plain": [
              "<IPython.core.display.HTML object>"
            ],
            "text/html": [
              "<table style=\"text-align:center\"><tr><td colspan=\"7\" style=\"border-bottom: 1px solid black\"></td></tr><tr><td style=\"text-align:left\"></td><tr><td></td><td colspan=\"1\">All Items (2nd Rating)</td><td colspan=\"1\">All Items (Delta Acc)</td><td colspan=\"1\">News Headlines (2nd Rating)</td><td colspan=\"1\">News Headlines (Delta Acc)</td><td colspan=\"1\">Trivia Items (2nd Rating)</td><td colspan=\"1\">Trivia Items (Delta Acc)</td></tr><tr><td style=\"text-align:left\"></td><td>(1)</td><td>(2)</td><td>(3)</td><td>(4)</td><td>(5)</td><td>(6)</td></tr><tr><td colspan=\"7\" style=\"border-bottom: 1px solid black\"></td></tr><tr><td style=\"text-align:left\">Constant</td><td>2.03<sup>***</sup></td><td>-0.34<sup>***</sup></td><td>1.65<sup>***</sup></td><td>-0.21<sup>***</sup></td><td>2.28<sup>***</sup></td><td>-0.43<sup>***</sup></td></tr><tr><td style=\"text-align:left\"></td><td>(0.11)</td><td>(0.05)</td><td>(0.10)</td><td>(0.05)</td><td>(0.14)</td><td>(0.06)</td></tr><tr><td style=\"text-align:left\">True</td><td>1.73<sup>***</sup></td><td>0.81<sup>***</sup></td><td>2.05<sup>***</sup></td><td>0.62<sup>***</sup></td><td>1.57<sup>***</sup></td><td>0.99<sup>***</sup></td></tr><tr><td style=\"text-align:left\"></td><td>(0.13)</td><td>(0.06)</td><td>(0.13)</td><td>(0.06)</td><td>(0.20)</td><td>(0.09)</td></tr><tr><td style=\"text-align:left\">Deceptive Feedback</td><td>1.06<sup>***</sup></td><td>0.87<sup>***</sup></td><td>0.87<sup>***</sup></td><td>0.70<sup>***</sup></td><td>1.20<sup>***</sup></td><td>0.97<sup>***</sup></td></tr><tr><td style=\"text-align:left\"></td><td>(0.09)</td><td>(0.07)</td><td>(0.11)</td><td>(0.08)</td><td>(0.12)</td><td>(0.10)</td></tr><tr><td style=\"text-align:left\">Deceptive Feedback * True Statement</td><td>-2.40<sup>***</sup></td><td>-1.98<sup>***</sup></td><td>-2.09<sup>***</sup></td><td>-1.73<sup>***</sup></td><td>-2.72<sup>***</sup></td><td>-2.20<sup>***</sup></td></tr><tr><td style=\"text-align:left\"></td><td>(0.11)</td><td>(0.09)</td><td>(0.13)</td><td>(0.10)</td><td>(0.15)</td><td>(0.13)</td></tr><td colspan=\"7\" style=\"border-bottom: 1px solid black\"></td></tr><tr><td style=\"text-align: left\">Observations</td><td>23,980</td><td>23,980</td><td>11,780</td><td>11,780</td><td>12,200</td><td>12,200</td></tr><tr><td style=\"text-align: left\">R<sup>2</sup></td><td>0.22</td><td>0.26</td><td>0.30</td><td>0.28</td><td>0.22</td><td>0.25</td></tr><tr><td style=\"text-align: left\">Adjusted R<sup>2</sup></td><td>0.22</td><td>0.26</td><td>0.30</td><td>0.28</td><td>0.22</td><td>0.25</td></tr><tr><td style=\"text-align: left\">Residual Std. Error</td><td>1.24</td><td>0.86</td><td>1.13</td><td>0.76</td><td>1.27</td><td>0.94</td></tr><tr><td style=\"text-align: left\">F Statistic</td><td>304.52<sup>***</sup></td><td>288.78<sup>***</sup></td><td>226.74<sup>***</sup></td><td>182.62<sup>***</sup></td><td>317.27<sup>***</sup></td><td>175.33<sup>***</sup></td></tr><tr><td colspan=\"7\" style=\"border-bottom: 1px solid black\"></td></tr><tr><td style=\"text-align: left\">Note:</td>\n",
              " <td colspan=\"6\" style=\"text-align: right\">\n",
              "  <sup>*</sup>p&lt;0.05;\n",
              "  <sup>**</sup>p&lt;0.01;\n",
              "  <sup>***</sup>p&lt;0.001\n",
              " </td></tr></table>"
            ]
          },
          "metadata": {},
          "execution_count": 40
        }
      ]
    },
    {
      "cell_type": "markdown",
      "source": [
        "# Accuracy"
      ],
      "metadata": {
        "id": "Ce0po4rpCIVW"
      }
    },
    {
      "cell_type": "code",
      "source": [
        "## accuracy version of fully interacted model\n",
        "\n",
        "\n",
        "x = []\n",
        "\n",
        "i = df.copy()\n",
        "i.stimulus_ID = i.stimulus_ID.astype(int)\n",
        "i.PROLIFIC_PID = pd.Categorical(i.PROLIFIC_PID)\n",
        "i['PROLIFIC_PID2'] = i.PROLIFIC_PID.cat.codes\n",
        "res = sm.OLS(\n",
        "        i[\"second_rating_accuracy\"],\n",
        "        sm.add_constant(i[[\n",
        "            'true_statement',\n",
        "            'deceptive_feedback',\n",
        "            'explanation',\n",
        "            \"deceptive_feedback_x_true_statement\",\n",
        "            'explanation_x_true_statement',\n",
        "            'explanation_x_deceptive_feedback',\n",
        "            \"deceptive_feedback_x_ts_x_explanation\"\n",
        "        ]]),\n",
        "        M=sm.robust.norms.HuberT()).fit(cov_type='cluster', cov_kwds={'groups': np.array(i[['PROLIFIC_PID2',\"stimulus_ID\"]])})\n",
        "res.summary()\n",
        "res.dvar = \"All (2nd Rating Accuracy)\"\n",
        "x.append(res)\n",
        "res = sm.OLS(\n",
        "        i[\"z_rating_delta_accuracy\"],\n",
        "        sm.add_constant(i[[\n",
        "            'true_statement',\n",
        "            'deceptive_feedback',\n",
        "            'explanation',\n",
        "            \"deceptive_feedback_x_true_statement\",\n",
        "            'explanation_x_true_statement',\n",
        "            'explanation_x_deceptive_feedback',\n",
        "            \"deceptive_feedback_x_ts_x_explanation\"\n",
        "        ]]),\n",
        "        M=sm.robust.norms.HuberT()).fit(cov_type='cluster', cov_kwds={'groups': np.array(i[['PROLIFIC_PID2',\"stimulus_ID\"]])})\n",
        "res.summary()\n",
        "res.dvar = \"All (Delta Rating Accuracy)\"\n",
        "x.append(res)\n",
        "\n",
        "# By stimulus types\n",
        "for j in [0,1]:\n",
        "    i = df[(df.trivia==j)]\n",
        "    i.stimulus_ID = i.stimulus_ID.astype(int)\n",
        "    i.PROLIFIC_PID = pd.Categorical(i.PROLIFIC_PID)\n",
        "    i['PROLIFIC_PID2'] = i.PROLIFIC_PID.cat.codes\n",
        "    res = sm.OLS(\n",
        "            i[\"second_rating_accuracy\"],\n",
        "            sm.add_constant(i[[\n",
        "                'true_statement',\n",
        "                'deceptive_feedback',\n",
        "                'explanation',\n",
        "                \"deceptive_feedback_x_true_statement\",\n",
        "                'explanation_x_true_statement',\n",
        "                'explanation_x_deceptive_feedback',\n",
        "                \"deceptive_feedback_x_ts_x_explanation\"\n",
        "            ]]),\n",
        "            M=sm.robust.norms.HuberT()).fit(cov_type='cluster', cov_kwds={'groups': np.array(i[['PROLIFIC_PID2',\"stimulus_ID\"]])})\n",
        "    res.summary()\n",
        "    res.dvar = \"Trivia (2nd Rating Accuracy)\" if j == 1 else \"News (2nd Rating Accuracy)\"\n",
        "    x.append(res)\n",
        "    res = sm.OLS(\n",
        "            i[\"z_rating_delta_accuracy\"],\n",
        "            sm.add_constant(i[[\n",
        "                'true_statement',\n",
        "                'deceptive_feedback',\n",
        "                'explanation',\n",
        "                \"deceptive_feedback_x_true_statement\",\n",
        "                'explanation_x_true_statement',\n",
        "                'explanation_x_deceptive_feedback',\n",
        "                \"deceptive_feedback_x_ts_x_explanation\"\n",
        "            ]]),\n",
        "            M=sm.robust.norms.HuberT()).fit(cov_type='cluster', cov_kwds={'groups': np.array(i[['PROLIFIC_PID2',\"stimulus_ID\"]])})\n",
        "    res.summary()\n",
        "    res.dvar = \"Trivia (Delta Rating Accuracy)\" if j == 1 else \"News (Delta Rating Accuracy)\"\n",
        "    x.append(res)\n",
        "stargazer = Stargazer([x[0],x[1],x[2],x[3],x[4],x[5]])\n",
        "stargazer.covariate_order([\n",
        "                            'const',\n",
        "                            'true_statement',\n",
        "                            'explanation',\n",
        "                            'deceptive_feedback',\n",
        "                            'explanation_x_true_statement',\n",
        "                            \"deceptive_feedback_x_true_statement\",\n",
        "                            'explanation_x_deceptive_feedback',\n",
        "                            \"deceptive_feedback_x_ts_x_explanation\"\n",
        "                          ])\n",
        "\n",
        "stargazer.custom_columns(['All Items (2nd Rating Acc)','All Items (Delta Rating Acc)','News Headlines (2nd Rating Acc)','News Headlines (Delta Rating Acc)','Trivia Items (2nd Rating Acc)','Trivia Items (Delta Rating Acc)',],\n",
        "                         [1,1,1,1,\n",
        "                           1,1\n",
        "                         ])\n",
        "\n",
        "stargazer.rename_covariates({\n",
        "                            'const':'Constant',\n",
        "                            'true_statement':'True Statement',\n",
        "                            'explanation':\"LLM Explanation\",\n",
        "                            'deceptive_feedback':'Deceptive Feedback',\n",
        "                            \"deceptive_feedback_x_true_statement\": \"Deceptive Feedback * True Statement\",\n",
        "                            'explanation_x_true_statement': \"LLM Explanation * True Statement\",\n",
        "                            'explanation_x_deceptive_feedback': \"Deceptive Feedback * LLM Explanation\",\n",
        "                            \"deceptive_feedback_x_ts_x_explanation\": \"Deceptive Feedback * LLM Explanation * True Statement\"\n",
        "                            })\n",
        "stargazer.significant_digits(2)\n",
        "stargazer.show_degrees_of_freedom(False)\n",
        "stargazer.significance_levels([0.05, 0.01, 0.001])\n",
        "stargazer.show_model_numbers(True)\n",
        "\n",
        "p_values_str = []\n",
        "for res in x:\n",
        "    p_value_str = res.dvar+': '+', '.join([f\"{var}: {p:.4f}\" for var, p in zip(res.params.index, res.pvalues)])\n",
        "    p_values_str.append(p_value_str)\n",
        "\n",
        "HTML(stargazer.render_html())"
      ],
      "metadata": {
        "colab": {
          "base_uri": "https://localhost:8080/",
          "height": 620
        },
        "id": "DUgX2T2RotyZ",
        "outputId": "559d8f01-742b-4abd-c8b4-6329dcf051ad"
      },
      "execution_count": null,
      "outputs": [
        {
          "output_type": "execute_result",
          "data": {
            "text/plain": [
              "<IPython.core.display.HTML object>"
            ],
            "text/html": [
              "<table style=\"text-align:center\"><tr><td colspan=\"7\" style=\"border-bottom: 1px solid black\"></td></tr><tr><td style=\"text-align:left\"></td><tr><td></td><td colspan=\"1\">All Items (2nd Rating Acc)</td><td colspan=\"1\">All Items (Delta Rating Acc)</td><td colspan=\"1\">News Headlines (2nd Rating Acc)</td><td colspan=\"1\">News Headlines (Delta Rating Acc)</td><td colspan=\"1\">Trivia Items (2nd Rating Acc)</td><td colspan=\"1\">Trivia Items (Delta Rating Acc)</td></tr><tr><td style=\"text-align:left\"></td><td>(1)</td><td>(2)</td><td>(3)</td><td>(4)</td><td>(5)</td><td>(6)</td></tr><tr><td colspan=\"7\" style=\"border-bottom: 1px solid black\"></td></tr><tr><td style=\"text-align:left\">Constant</td><td>0.59<sup>***</sup></td><td>0.47<sup>***</sup></td><td>0.66<sup>***</sup></td><td>0.31<sup>***</sup></td><td>0.54<sup>***</sup></td><td>0.58<sup>***</sup></td></tr><tr><td style=\"text-align:left\"></td><td>(0.02)</td><td>(0.05)</td><td>(0.02)</td><td>(0.04)</td><td>(0.03)</td><td>(0.07)</td></tr><tr><td style=\"text-align:left\">True Statement</td><td>0.15<sup>***</sup></td><td>0.01<sup></sup></td><td>0.06<sup>*</sup></td><td>0.12<sup>**</sup></td><td>0.22<sup>***</sup></td><td>-0.01<sup></sup></td></tr><tr><td style=\"text-align:left\"></td><td>(0.03)</td><td>(0.06)</td><td>(0.03)</td><td>(0.04)</td><td>(0.04)</td><td>(0.09)</td></tr><tr><td style=\"text-align:left\">LLM Explanation</td><td>0.01<sup></sup></td><td>-0.02<sup></sup></td><td>0.01<sup></sup></td><td>0.04<sup></sup></td><td>0.00<sup></sup></td><td>-0.06<sup></sup></td></tr><tr><td style=\"text-align:left\"></td><td>(0.01)</td><td>(0.05)</td><td>(0.01)</td><td>(0.04)</td><td>(0.01)</td><td>(0.07)</td></tr><tr><td style=\"text-align:left\">Deceptive Feedback</td><td>-0.20<sup>***</sup></td><td>-0.84<sup>***</sup></td><td>-0.14<sup>***</sup></td><td>-0.60<sup>***</sup></td><td>-0.24<sup>***</sup></td><td>-0.99<sup>***</sup></td></tr><tr><td style=\"text-align:left\"></td><td>(0.02)</td><td>(0.07)</td><td>(0.02)</td><td>(0.06)</td><td>(0.02)</td><td>(0.09)</td></tr><tr><td style=\"text-align:left\">LLM Explanation * True Statement</td><td>0.02<sup></sup></td><td>0.14<sup>*</sup></td><td>0.02<sup></sup></td><td>0.06<sup></sup></td><td>0.01<sup></sup></td><td>0.20<sup>*</sup></td></tr><tr><td style=\"text-align:left\"></td><td>(0.01)</td><td>(0.05)</td><td>(0.01)</td><td>(0.05)</td><td>(0.02)</td><td>(0.09)</td></tr><tr><td style=\"text-align:left\">Deceptive Feedback * True Statement</td><td>-0.04<sup>*</sup></td><td>-0.11<sup></sup></td><td>-0.06<sup>**</sup></td><td>-0.26<sup>***</sup></td><td>-0.04<sup>*</sup></td><td>-0.08<sup></sup></td></tr><tr><td style=\"text-align:left\"></td><td>(0.02)</td><td>(0.07)</td><td>(0.02)</td><td>(0.05)</td><td>(0.02)</td><td>(0.09)</td></tr><tr><td style=\"text-align:left\">Deceptive Feedback * LLM Explanation</td><td>-0.03<sup></sup></td><td>-0.06<sup></sup></td><td>-0.06<sup>**</sup></td><td>-0.19<sup>*</sup></td><td>-0.00<sup></sup></td><td>0.03<sup></sup></td></tr><tr><td style=\"text-align:left\"></td><td>(0.02)</td><td>(0.08)</td><td>(0.02)</td><td>(0.08)</td><td>(0.03)</td><td>(0.12)</td></tr><tr><td style=\"text-align:left\">Deceptive Feedback * LLM Explanation * True Statement</td><td>-0.04<sup>*</sup></td><td>-0.27<sup>***</sup></td><td>-0.02<sup></sup></td><td>-0.15<sup>*</sup></td><td>-0.05<sup></sup></td><td>-0.34<sup>**</sup></td></tr><tr><td style=\"text-align:left\"></td><td>(0.02)</td><td>(0.08)</td><td>(0.02)</td><td>(0.07)</td><td>(0.03)</td><td>(0.12)</td></tr><td colspan=\"7\" style=\"border-bottom: 1px solid black\"></td></tr><tr><td style=\"text-align: left\">Observations</td><td>23,980</td><td>23,980</td><td>11,780</td><td>11,780</td><td>12,200</td><td>12,200</td></tr><tr><td style=\"text-align: left\">R<sup>2</sup></td><td>0.24</td><td>0.26</td><td>0.20</td><td>0.27</td><td>0.30</td><td>0.25</td></tr><tr><td style=\"text-align: left\">Adjusted R<sup>2</sup></td><td>0.24</td><td>0.26</td><td>0.20</td><td>0.27</td><td>0.30</td><td>0.25</td></tr><tr><td style=\"text-align: left\">Residual Std. Error</td><td>0.25</td><td>0.86</td><td>0.23</td><td>0.76</td><td>0.25</td><td>0.95</td></tr><tr><td style=\"text-align: left\">F Statistic</td><td>129.79<sup>***</sup></td><td>136.63<sup>***</sup></td><td>91.09<sup>***</sup></td><td>83.38<sup>***</sup></td><td>151.08<sup>***</sup></td><td>96.16<sup>***</sup></td></tr><tr><td colspan=\"7\" style=\"border-bottom: 1px solid black\"></td></tr><tr><td style=\"text-align: left\">Note:</td>\n",
              " <td colspan=\"6\" style=\"text-align: right\">\n",
              "  <sup>*</sup>p&lt;0.05;\n",
              "  <sup>**</sup>p&lt;0.01;\n",
              "  <sup>***</sup>p&lt;0.001\n",
              " </td></tr></table>"
            ]
          },
          "metadata": {},
          "execution_count": 22
        }
      ]
    },
    {
      "cell_type": "code",
      "source": [
        "for p in p_values_str:\n",
        "  print(p)"
      ],
      "metadata": {
        "colab": {
          "base_uri": "https://localhost:8080/"
        },
        "id": "wBl_PID0DHlK",
        "outputId": "3960d4c6-34c5-4c60-ea8a-a35e83844fe5"
      },
      "execution_count": null,
      "outputs": [
        {
          "output_type": "stream",
          "name": "stdout",
          "text": [
            "All (2nd Rating Accuracy): const: 0.0000, true_statement: 0.0000, deceptive_feedback: 0.0000, explanation: 0.3869, deceptive_feedback_x_true_statement: 0.0468, explanation_x_true_statement: 0.1511, explanation_x_deceptive_feedback: 0.1893, deceptive_feedback_x_ts_x_explanation: 0.0484\n",
            "All (Delta Rating Accuracy): const: 0.0000, true_statement: 0.8617, deceptive_feedback: 0.0000, explanation: 0.6596, deceptive_feedback_x_true_statement: 0.1207, explanation_x_true_statement: 0.0105, explanation_x_deceptive_feedback: 0.4860, deceptive_feedback_x_ts_x_explanation: 0.0006\n",
            "News (2nd Rating Accuracy): const: 0.0000, true_statement: 0.0294, deceptive_feedback: 0.0000, explanation: 0.2107, deceptive_feedback_x_true_statement: 0.0011, explanation_x_true_statement: 0.2200, explanation_x_deceptive_feedback: 0.0081, deceptive_feedback_x_ts_x_explanation: 0.4730\n",
            "News (Delta Rating Accuracy): const: 0.0000, true_statement: 0.0062, deceptive_feedback: 0.0000, explanation: 0.3119, deceptive_feedback_x_true_statement: 0.0000, explanation_x_true_statement: 0.1921, explanation_x_deceptive_feedback: 0.0152, deceptive_feedback_x_ts_x_explanation: 0.0425\n",
            "Trivia (2nd Rating Accuracy): const: 0.0000, true_statement: 0.0000, deceptive_feedback: 0.0000, explanation: 0.7277, deceptive_feedback_x_true_statement: 0.0364, explanation_x_true_statement: 0.4329, explanation_x_deceptive_feedback: 0.9373, deceptive_feedback_x_ts_x_explanation: 0.0603\n",
            "Trivia (Delta Rating Accuracy): const: 0.0000, true_statement: 0.8622, deceptive_feedback: 0.0000, explanation: 0.3818, deceptive_feedback_x_true_statement: 0.4100, explanation_x_true_statement: 0.0323, explanation_x_deceptive_feedback: 0.7842, deceptive_feedback_x_ts_x_explanation: 0.0041\n"
          ]
        }
      ]
    },
    {
      "cell_type": "markdown",
      "source": [
        "# Discernment"
      ],
      "metadata": {
        "id": "f429S4VoZnNj"
      }
    },
    {
      "cell_type": "code",
      "source": [
        "# Discernment\n",
        "df_discernment = df.groupby(['PROLIFIC_PID', 'true_statement', 'explanation', 'deceptive_feedback', 'trivia'])['second_rating'].mean().reset_index() \\\n",
        "    .pivot_table(index=['PROLIFIC_PID', 'explanation', 'deceptive_feedback', 'trivia'], columns='true_statement', values='second_rating').reset_index() \\\n",
        "    .assign(discernment=lambda x: x[1].astype(float) - x[0].astype(float))[['PROLIFIC_PID', 'explanation', 'deceptive_feedback', 'trivia', 'discernment']] \\\n",
        "    .rename_axis(None, axis=1)\n",
        "\n",
        "# Add moderators\n",
        "'z_valid_statement', 'z_crt', 'z_trust', 'z_knowledge'\n",
        "# Merge the two dataframes on \"PROLIFIC_PID\" column\n",
        "df_discernment = df_discernment.merge(df[['PROLIFIC_PID', 'z_valid_statement', 'z_crt', 'z_trust', 'z_knowledge']], on='PROLIFIC_PID', how='left')\n",
        "\n",
        "# Discernment Interactions\n",
        "df_discernment[\"explanation_x_deceptive_feedback\"] = df_discernment[\"deceptive_feedback\"]*df_discernment[\"explanation\"]\n",
        "df_discernment[\"explanation_x_z_valid_statement\"] = df_discernment[\"z_valid_statement\"]*df_discernment[\"explanation\"]\n",
        "df_discernment[\"deceptive_feedback_x_z_valid_statement\"] = df_discernment[\"z_valid_statement\"]*df_discernment[\"deceptive_feedback\"]\n",
        "\n",
        "# some only had true or false statements\n",
        "print(df_discernment.isna().sum())\n",
        "\n",
        "# remove those participants\n",
        "df_discernment = df_discernment.dropna(subset=['discernment'])\n",
        "print('\\n---After dropping NaN participants---')\n",
        "print(df_discernment.isna().sum())"
      ],
      "metadata": {
        "colab": {
          "base_uri": "https://localhost:8080/"
        },
        "id": "igES1s6GZ9K5",
        "outputId": "b73ce0df-3571-4ff0-9bfe-d273110a360e"
      },
      "execution_count": null,
      "outputs": [
        {
          "output_type": "stream",
          "name": "stdout",
          "text": [
            "PROLIFIC_PID                                0\n",
            "explanation                                 0\n",
            "deceptive_feedback                          0\n",
            "trivia                                      0\n",
            "discernment                               140\n",
            "z_valid_statement                           0\n",
            "z_crt                                       0\n",
            "z_trust                                     0\n",
            "z_knowledge                                 0\n",
            "explanation_x_deceptive_feedback            0\n",
            "explanation_x_z_valid_statement             0\n",
            "deceptive_feedback_x_z_valid_statement      0\n",
            "dtype: int64\n",
            "\n",
            "---After dropping NaN participants---\n",
            "PROLIFIC_PID                              0\n",
            "explanation                               0\n",
            "deceptive_feedback                        0\n",
            "trivia                                    0\n",
            "discernment                               0\n",
            "z_valid_statement                         0\n",
            "z_crt                                     0\n",
            "z_trust                                   0\n",
            "z_knowledge                               0\n",
            "explanation_x_deceptive_feedback          0\n",
            "explanation_x_z_valid_statement           0\n",
            "deceptive_feedback_x_z_valid_statement    0\n",
            "dtype: int64\n"
          ]
        }
      ]
    },
    {
      "cell_type": "code",
      "source": [
        "## accuracy version of fully interacted model\n",
        "\n",
        "\n",
        "x = []\n",
        "\n",
        "i = df_discernment.copy()\n",
        "i.PROLIFIC_PID = pd.Categorical(i.PROLIFIC_PID)\n",
        "i['PROLIFIC_PID2'] = i.PROLIFIC_PID.cat.codes\n",
        "res = sm.OLS(\n",
        "        i[\"discernment\"],\n",
        "        sm.add_constant(i[[\n",
        "            'deceptive_feedback',\n",
        "            'explanation',\n",
        "            'explanation_x_deceptive_feedback',\n",
        "        ]]),\n",
        "        M=sm.robust.norms.HuberT()).fit()\n",
        "res.summary()\n",
        "res.dvar = \"All (Discernment)\"\n",
        "x.append(res)\n",
        "\n",
        "# By stimulus types\n",
        "for j in [0,1]:\n",
        "    i = df_discernment[(df_discernment.trivia==j)]\n",
        "    i.PROLIFIC_PID = pd.Categorical(i.PROLIFIC_PID)\n",
        "    i['PROLIFIC_PID2'] = i.PROLIFIC_PID.cat.codes\n",
        "    res = sm.OLS(\n",
        "            i[\"discernment\"],\n",
        "            sm.add_constant(i[[\n",
        "                'deceptive_feedback',\n",
        "                'explanation',\n",
        "                'explanation_x_deceptive_feedback',\n",
        "            ]]),\n",
        "            M=sm.robust.norms.HuberT()).fit()\n",
        "    res.summary()\n",
        "    res.dvar = \"Trivia (Discernment)\" if j == 1 else \"News (Discernment)\"\n",
        "    x.append(res)\n",
        "stargazer = Stargazer([x[0],x[1],x[2]])\n",
        "stargazer.covariate_order([\n",
        "                            'const',\n",
        "                            'explanation',\n",
        "                            'deceptive_feedback',\n",
        "                            'explanation_x_deceptive_feedback',\n",
        "                          ])\n",
        "\n",
        "stargazer.custom_columns(['All Items (Discernment)', 'News Headlines (Discernment)', 'Trivia Items (Discernment)'],\n",
        "                         [1,1,1,\n",
        "                         ])\n",
        "\n",
        "stargazer.rename_covariates({\n",
        "                            'const':'Constant',\n",
        "                            'explanation':\"LLM Explanation\",\n",
        "                            'deceptive_feedback':'Deceptive Feedback',\n",
        "                            'explanation_x_deceptive_feedback': \"Deceptive Feedback * LLM Explanation\",\n",
        "                            })\n",
        "stargazer.significant_digits(2)\n",
        "stargazer.show_degrees_of_freedom(False)\n",
        "stargazer.significance_levels([0.05, 0.01, 0.001])\n",
        "stargazer.show_model_numbers(True)\n",
        "\n",
        "p_values_str = []\n",
        "for res in x:\n",
        "    p_value_str = res.dvar+': '+', '.join([f\"{var}: {p:.4f}\" for var, p in zip(res.params.index, res.pvalues)])\n",
        "    p_values_str.append(p_value_str)\n",
        "\n",
        "HTML(stargazer.render_html())"
      ],
      "metadata": {
        "colab": {
          "base_uri": "https://localhost:8080/",
          "height": 427
        },
        "id": "aCpJDen_ZmfU",
        "outputId": "eff7fbd2-ea14-4108-faee-db2344fd7490"
      },
      "execution_count": null,
      "outputs": [
        {
          "output_type": "execute_result",
          "data": {
            "text/plain": [
              "<IPython.core.display.HTML object>"
            ],
            "text/html": [
              "<table style=\"text-align:center\"><tr><td colspan=\"4\" style=\"border-bottom: 1px solid black\"></td></tr><tr><td style=\"text-align:left\"></td><td colspan=\"3\"><em>Dependent variable:discernment</em></td></tr><tr><td style=\"text-align:left\"></td><tr><td></td><td colspan=\"1\">All Items (Discernment)</td><td colspan=\"1\">News Headlines (Discernment)</td><td colspan=\"1\">Trivia Items (Discernment)</td></tr><tr><td style=\"text-align:left\"></td><td>(1)</td><td>(2)</td><td>(3)</td></tr><tr><td colspan=\"4\" style=\"border-bottom: 1px solid black\"></td></tr><tr><td style=\"text-align:left\">Constant</td><td>1.71<sup>***</sup></td><td>1.93<sup>***</sup></td><td>1.48<sup>***</sup></td></tr><tr><td style=\"text-align:left\"></td><td>(0.06)</td><td>(0.07)</td><td>(0.08)</td></tr><tr><td style=\"text-align:left\">LLM Explanation</td><td>0.18<sup>*</sup></td><td>0.21<sup>*</sup></td><td>0.14<sup></sup></td></tr><tr><td style=\"text-align:left\"></td><td>(0.08)</td><td>(0.10)</td><td>(0.11)</td></tr><tr><td style=\"text-align:left\">Deceptive Feedback</td><td>-2.13<sup>***</sup></td><td>-1.70<sup>***</sup></td><td>-2.54<sup>***</sup></td></tr><tr><td style=\"text-align:left\"></td><td>(0.08)</td><td>(0.11)</td><td>(0.11)</td></tr><tr><td style=\"text-align:left\">Deceptive Feedback * LLM Explanation</td><td>-0.50<sup>***</sup></td><td>-0.71<sup>***</sup></td><td>-0.30<sup></sup></td></tr><tr><td style=\"text-align:left\"></td><td>(0.11)</td><td>(0.15)</td><td>(0.15)</td></tr><td colspan=\"4\" style=\"border-bottom: 1px solid black\"></td></tr><tr><td style=\"text-align: left\">Observations</td><td>2,391</td><td>1,176</td><td>1,215</td></tr><tr><td style=\"text-align: left\">R<sup>2</sup></td><td>0.44</td><td>0.41</td><td>0.51</td></tr><tr><td style=\"text-align: left\">Adjusted R<sup>2</sup></td><td>0.44</td><td>0.41</td><td>0.51</td></tr><tr><td style=\"text-align: left\">Residual Std. Error</td><td>1.37</td><td>1.26</td><td>1.33</td></tr><tr><td style=\"text-align: left\">F Statistic</td><td>614.64<sup>***</sup></td><td>270.92<sup>***</sup></td><td>419.62<sup>***</sup></td></tr><tr><td colspan=\"4\" style=\"border-bottom: 1px solid black\"></td></tr><tr><td style=\"text-align: left\">Note:</td>\n",
              " <td colspan=\"3\" style=\"text-align: right\">\n",
              "  <sup>*</sup>p&lt;0.05;\n",
              "  <sup>**</sup>p&lt;0.01;\n",
              "  <sup>***</sup>p&lt;0.001\n",
              " </td></tr></table>"
            ]
          },
          "metadata": {},
          "execution_count": 109
        }
      ]
    },
    {
      "cell_type": "code",
      "source": [
        "p_values_str"
      ],
      "metadata": {
        "colab": {
          "base_uri": "https://localhost:8080/"
        },
        "id": "GYGUrUzvhxJE",
        "outputId": "54f58506-2e80-4fc4-c513-b7f752aeb250"
      },
      "execution_count": null,
      "outputs": [
        {
          "output_type": "execute_result",
          "data": {
            "text/plain": [
              "['All (Discernment): const: 0.0000, deceptive_feedback: 0.0000, explanation: 0.0266, explanation_x_deceptive_feedback: 0.0000',\n",
              " 'News (Discernment): const: 0.0000, deceptive_feedback: 0.0000, explanation: 0.0401, explanation_x_deceptive_feedback: 0.0000',\n",
              " 'Trivia (Discernment): const: 0.0000, deceptive_feedback: 0.0000, explanation: 0.1984, explanation_x_deceptive_feedback: 0.0501']"
            ]
          },
          "metadata": {},
          "execution_count": 110
        }
      ]
    },
    {
      "cell_type": "markdown",
      "source": [
        "# Moderators"
      ],
      "metadata": {
        "id": "4Qfy1HzMZqpE"
      }
    },
    {
      "cell_type": "markdown",
      "source": [
        " In particular, we will re-run the main analysis model restricting to the flag + explanation condition, with the addition of the z-scored moderator and all interactions (so no flag condition dummy). We will examine the 3-way interaction between veracity, explanation veracity, explanation type and the moderator."
      ],
      "metadata": {
        "id": "KogoiRMQDuce"
      }
    },
    {
      "cell_type": "code",
      "source": [
        "import itertools\n",
        "from functools import reduce\n",
        "import operator\n",
        "import tqdm.notebook as tqdm\n",
        "import numpy as np\n",
        "from itertools import product\n",
        "\n",
        "\n",
        "\n",
        "moderator_vars =    [\n",
        "                    'valid_statement',\n",
        "                    'invalid_statement',\n",
        "                    'z_crt',\n",
        "                    'z_trust',\n",
        "                    'z_knowledge'\n",
        "                    ]\n",
        "\n",
        "\n",
        "independent_vars = ['true_statement',\n",
        "                    'deceptive_feedback',\n",
        "                    'explanation',\n",
        "                    \"deceptive_feedback_x_true_statement\",\n",
        "                    'explanation_x_true_statement',\n",
        "                    'explanation_x_deceptive_feedback',\n",
        "                    \"deceptive_feedback_x_true_statement_x_explanation\"\n",
        "                    ]\n",
        "\n",
        "# Create dataframe\n",
        "all_vars = np.append(independent_vars, moderator_vars)\n",
        "#df_moderators = df[df.explanation==1].copy()\n",
        "df_moderators = df.copy()\n",
        "df_moderators = df_moderators[np.append(['PROLIFIC_PID', 'stimulus_ID', 'initial_rating','second_rating', 'second_rating_accuracy', 'trivia'], all_vars)].copy()\n",
        "\n",
        "combinations = sorted(set('_x_'.join(sorted(pair)) for pair in product(moderator_vars, independent_vars)))\n",
        "\n",
        "# Multiplying columns based on the combinations\n",
        "for combination in combinations:\n",
        "    combination_split = combination.split('_x_')\n",
        "    df_moderators[combination] = reduce(operator.mul, [df_moderators[col] for col in combination_split])\n",
        "\n",
        "combinations = np.append(all_vars, combinations)\n",
        "#print(combinations)"
      ],
      "metadata": {
        "id": "LqOATuAyFaJq"
      },
      "execution_count": null,
      "outputs": []
    },
    {
      "cell_type": "markdown",
      "source": [
        "**Personal Factors for Second Rating x Knowledge**"
      ],
      "metadata": {
        "id": "Eu4hakGCi_FK"
      }
    },
    {
      "cell_type": "markdown",
      "source": [
        "second_rating = b0 + b1*deceptive_feedback + b2*explanation + b3*true_statement + b4* z_knowledge + b5*deceptive_feedback*true_statement + b6*explanation*true_statement* + b7*deceptive_feedback*true_statement* + b8*explanation*true_statement* z_knowledge"
      ],
      "metadata": {
        "id": "TNiBp32FjICq"
      }
    },
    {
      "cell_type": "code",
      "source": [
        "def OLS_w_moderators(df_, dvar, moderator, moderator_name):\n",
        "  x = []\n",
        "\n",
        "  i = df_.copy()\n",
        "  i.stimulus_ID = i.stimulus_ID.astype(int)\n",
        "  i.PROLIFIC_PID = pd.Categorical(i.PROLIFIC_PID)\n",
        "  i['PROLIFIC_PID2'] = i.PROLIFIC_PID.cat.codes\n",
        "  res = sm.OLS(\n",
        "          i[dvar],\n",
        "          sm.add_constant(i[[\n",
        "              'true_statement',\n",
        "              'deceptive_feedback',\n",
        "              'explanation',\n",
        "              moderator,\n",
        "              \"deceptive_feedback_x_true_statement\",\n",
        "              'explanation_x_true_statement',\n",
        "              'explanation_x_deceptive_feedback',\n",
        "              'true_statement_x_'+moderator,\n",
        "              'explanation_x_'+moderator,\n",
        "              'deceptive_feedback_x_'+moderator,\n",
        "              'explanation_x_true_statement_x_'+moderator,\n",
        "              'explanation_x_deceptive_feedback_x_'+moderator,\n",
        "              'deceptive_feedback_x_true_statement_x_'+moderator,\n",
        "              'deceptive_feedback_x_true_statement_x_explanation_x_'+moderator\n",
        "          ]]),\n",
        "          M=sm.robust.norms.HuberT()).fit(cov_type='cluster', cov_kwds={'groups': np.array(i[['PROLIFIC_PID2',\"stimulus_ID\"]])})\n",
        "  res.summary()\n",
        "  res.dvar = f\"All ({dvar})\"\n",
        "  x.append(res)\n",
        "\n",
        "  # By stimulus types\n",
        "  for j in [0,1]:\n",
        "      i = df_moderators[(df_moderators.trivia==j)]\n",
        "      i.stimulus_ID = i.stimulus_ID.astype(int)\n",
        "      i.PROLIFIC_PID = pd.Categorical(i.PROLIFIC_PID)\n",
        "      i['PROLIFIC_PID2'] = i.PROLIFIC_PID.cat.codes\n",
        "      res = sm.OLS(\n",
        "              i[dvar],\n",
        "              sm.add_constant(i[[\n",
        "                  'true_statement',\n",
        "                  'deceptive_feedback',\n",
        "                  'explanation',\n",
        "                  moderator,\n",
        "                  \"deceptive_feedback_x_true_statement\",\n",
        "                  'explanation_x_true_statement',\n",
        "                  'explanation_x_deceptive_feedback',\n",
        "                  'deceptive_feedback_x_true_statement_x_explanation',\n",
        "                  'true_statement_x_'+moderator,\n",
        "                  'explanation_x_'+moderator,\n",
        "                  'deceptive_feedback_x_'+moderator,\n",
        "                  'explanation_x_true_statement_x_'+moderator,\n",
        "                  'explanation_x_deceptive_feedback_x_'+moderator,\n",
        "                  'deceptive_feedback_x_true_statement_x_'+moderator,\n",
        "                  'deceptive_feedback_x_true_statement_x_explanation_x_'+moderator\n",
        "              ]]),\n",
        "              M=sm.robust.norms.HuberT()).fit(cov_type='cluster', cov_kwds={'groups': np.array(i[['PROLIFIC_PID2',\"stimulus_ID\"]])})\n",
        "      res.summary()\n",
        "      res.dvar = \"Trivia (2nd Rating)\" if j == 1 else \"News (2nd Rating)\"\n",
        "      x.append(res)\n",
        "\n",
        "  stargazer = Stargazer([x[0],x[1],x[2]])\n",
        "\n",
        "  stargazer.covariate_order([\n",
        "                              'const',\n",
        "                              'true_statement',\n",
        "                              'deceptive_feedback',\n",
        "                              'explanation',\n",
        "                              moderator,\n",
        "                              \"deceptive_feedback_x_true_statement\",\n",
        "                              'explanation_x_true_statement',\n",
        "                              'explanation_x_deceptive_feedback',\n",
        "                              'deceptive_feedback_x_true_statement_x_explanation',\n",
        "                              'true_statement_x_'+moderator,\n",
        "                              'explanation_x_'+moderator,\n",
        "                              'deceptive_feedback_x_'+moderator,\n",
        "                              'explanation_x_true_statement_x_'+moderator,\n",
        "                              'explanation_x_deceptive_feedback_x_'+moderator,\n",
        "                              'deceptive_feedback_x_true_statement_x_'+moderator,\n",
        "                              'deceptive_feedback_x_true_statement_x_explanation_x_'+moderator\n",
        "                            ])\n",
        "\n",
        "  stargazer.rename_covariates({\n",
        "                              'const':'Constant',\n",
        "                              'true_statement':'True Statement',\n",
        "                              'explanation':\"LLM Explanation\",\n",
        "                              moderator:moderator_name,\n",
        "                              'deceptive_feedback':'Deceptive Feedback',\n",
        "                              \"deceptive_feedback_x_true_statement\": \"Deceptive Feedback * True Statement\",\n",
        "                              'explanation_x_true_statement': \"LLM Explanation * True Statement\",\n",
        "                              'explanation_x_deceptive_feedback': \"Deceptive Feedback * LLM Explanation\",\n",
        "                              \"deceptive_feedback_x_ts_x_explanation\": \"Deceptive Feedback * LLM Explanation * True Statement\",\n",
        "                              'deceptive_feedback_x_true_statement_x_explanation': f\"True Statement * LLM Explanation * Deceptive Feedback\",\n",
        "                              f'true_statement_x_{moderator}': f\"True Statement * {moderator_name}\",\n",
        "                              f'explanation_x_{moderator}': f\"LLM Explanation * {moderator_name}\",\n",
        "                              f'deceptive_feedback_x_{moderator}': f\"Deceptive Feedback * {moderator_name}\",\n",
        "                              f'explanation_x_true_statement_x_{moderator}': f\"True Statement * LLM Explanation * {moderator_name}\",\n",
        "                              f'explanation_x_deceptive_feedback_x_{moderator}': f\"LLM Explanation * Deceptive Feedback * {moderator_name}\",\n",
        "                               'deceptive_feedback_x_true_statement_x_'+moderator : f\"True Statement * Deceptive Feedback * {moderator_name}\",\n",
        "                              f'deceptive_feedback_x_true_statement_x_explanation_x_{moderator}': f\"True Statement * LLM Explanation * Deceptive Feedback * {moderator_name}\",\n",
        "                              })\n",
        "\n",
        "  stargazer.custom_columns([f'All Items ({dvar})', f'News Headlines ({dvar})',f'Trivia Items ({dvar})'],\n",
        "                          [1,1,1,\n",
        "                          ])\n",
        "\n",
        "  stargazer.significant_digits(2)\n",
        "  stargazer.show_degrees_of_freedom(False)\n",
        "  stargazer.significance_levels([0.05, 0.01, 0.001])\n",
        "  stargazer.show_model_numbers(True)\n",
        "\n",
        "  p_values_str = []\n",
        "  for res in x:\n",
        "      p_value_str = res.dvar+': '+', '.join([f\"{var}: {p:.4f}\" for var, p in zip(res.params.index, res.pvalues)])\n",
        "      p_values_str.append(p_value_str)\n",
        "\n",
        "  return stargazer, p_values_str\n",
        "\n",
        "\n",
        "stargazer, pvalues = OLS_w_moderators(df_moderators, \"initial_rating\", 'z_knowledge', 'Prior Knowledge')\n",
        "HTML(stargazer.render_html())\n",
        "\n",
        "#latex_table = stargazer.render_latex()\n",
        "#print(latex_table)"
      ],
      "metadata": {
        "colab": {
          "base_uri": "https://localhost:8080/",
          "height": 980
        },
        "id": "nN3r4ZYSoFZA",
        "outputId": "98413895-26ab-415b-867a-25d80eb4f54a"
      },
      "execution_count": null,
      "outputs": [
        {
          "output_type": "execute_result",
          "data": {
            "text/plain": [
              "<IPython.core.display.HTML object>"
            ],
            "text/html": [
              "<table style=\"text-align:center\"><tr><td colspan=\"4\" style=\"border-bottom: 1px solid black\"></td></tr><tr><td style=\"text-align:left\"></td><td colspan=\"3\"><em>Dependent variable:initial_rating</em></td></tr><tr><td style=\"text-align:left\"></td><tr><td></td><td colspan=\"1\">All Items (initial_rating)</td><td colspan=\"1\">News Headlines (initial_rating)</td><td colspan=\"1\">Trivia Items (initial_rating)</td></tr><tr><td style=\"text-align:left\"></td><td>(1)</td><td>(2)</td><td>(3)</td></tr><tr><td colspan=\"4\" style=\"border-bottom: 1px solid black\"></td></tr><tr><td style=\"text-align:left\">Constant</td><td>2.53<sup>***</sup></td><td>2.01<sup>***</sup></td><td>2.84<sup>***</sup></td></tr><tr><td style=\"text-align:left\"></td><td>(0.13)</td><td>(0.16)</td><td>(0.15)</td></tr><tr><td style=\"text-align:left\">True Statement</td><td>0.67<sup>***</sup></td><td>1.18<sup>***</sup></td><td>0.34<sup></sup></td></tr><tr><td style=\"text-align:left\"></td><td>(0.15)</td><td>(0.18)</td><td>(0.21)</td></tr><tr><td style=\"text-align:left\">Deceptive Feedback</td><td>-0.03<sup></sup></td><td>-0.08<sup></sup></td><td>0.04<sup></sup></td></tr><tr><td style=\"text-align:left\"></td><td>(0.04)</td><td>(0.05)</td><td>(0.06)</td></tr><tr><td style=\"text-align:left\">LLM Explanation</td><td>-0.04<sup></sup></td><td>0.06<sup></sup></td><td>-0.11<sup>**</sup></td></tr><tr><td style=\"text-align:left\"></td><td>(0.04)</td><td>(0.07)</td><td>(0.04)</td></tr><tr><td style=\"text-align:left\">Prior Knowledge</td><td>-0.35<sup>***</sup></td><td>-0.21<sup>***</sup></td><td>-0.33<sup>***</sup></td></tr><tr><td style=\"text-align:left\"></td><td>(0.06)</td><td>(0.06)</td><td>(0.09)</td></tr><tr><td style=\"text-align:left\">Deceptive Feedback * True Statement</td><td>0.03<sup></sup></td><td>0.15<sup>*</sup></td><td>-0.08<sup></sup></td></tr><tr><td style=\"text-align:left\"></td><td>(0.06)</td><td>(0.07)</td><td>(0.12)</td></tr><tr><td style=\"text-align:left\">LLM Explanation * True Statement</td><td>0.04<sup></sup></td><td>-0.04<sup></sup></td><td>0.11<sup></sup></td></tr><tr><td style=\"text-align:left\"></td><td>(0.04)</td><td>(0.08)</td><td>(0.06)</td></tr><tr><td style=\"text-align:left\">Deceptive Feedback * LLM Explanation</td><td>0.04<sup></sup></td><td>-0.01<sup></sup></td><td>0.08<sup></sup></td></tr><tr><td style=\"text-align:left\"></td><td>(0.03)</td><td>(0.08)</td><td>(0.06)</td></tr><tr><td style=\"text-align:left\">True Statement * LLM Explanation * Deceptive Feedback</td><td></td><td>-0.00<sup></sup></td><td>-0.07<sup></sup></td></tr><tr><td style=\"text-align:left\"></td><td></td><td>(0.09)</td><td>(0.10)</td></tr><tr><td style=\"text-align:left\">True Statement * Prior Knowledge</td><td>0.83<sup>***</sup></td><td>0.66<sup>***</sup></td><td>0.85<sup>***</sup></td></tr><tr><td style=\"text-align:left\"></td><td>(0.07)</td><td>(0.08)</td><td>(0.13)</td></tr><tr><td style=\"text-align:left\">LLM Explanation * Prior Knowledge</td><td>-0.05<sup></sup></td><td>-0.11<sup>*</sup></td><td>0.03<sup></sup></td></tr><tr><td style=\"text-align:left\"></td><td>(0.06)</td><td>(0.05)</td><td>(0.07)</td></tr><tr><td style=\"text-align:left\">Deceptive Feedback * Prior Knowledge</td><td>0.39<sup>***</sup></td><td>0.22<sup>**</sup></td><td>0.47<sup>***</sup></td></tr><tr><td style=\"text-align:left\"></td><td>(0.06)</td><td>(0.09)</td><td>(0.06)</td></tr><tr><td style=\"text-align:left\">True Statement * LLM Explanation * Prior Knowledge</td><td>0.09<sup></sup></td><td>0.11<sup></sup></td><td>0.07<sup></sup></td></tr><tr><td style=\"text-align:left\"></td><td>(0.07)</td><td>(0.06)</td><td>(0.09)</td></tr><tr><td style=\"text-align:left\">LLM Explanation * Deceptive Feedback * Prior Knowledge</td><td>0.05<sup></sup></td><td>0.20<sup>***</sup></td><td>-0.04<sup></sup></td></tr><tr><td style=\"text-align:left\"></td><td>(0.05)</td><td>(0.06)</td><td>(0.06)</td></tr><tr><td style=\"text-align:left\">True Statement * Deceptive Feedback * Prior Knowledge</td><td>-0.83<sup>***</sup></td><td>-0.57<sup>***</sup></td><td>-1.00<sup>***</sup></td></tr><tr><td style=\"text-align:left\"></td><td>(0.08)</td><td>(0.11)</td><td>(0.11)</td></tr><tr><td style=\"text-align:left\">True Statement * LLM Explanation * Deceptive Feedback * Prior Knowledge</td><td>-0.14<sup></sup></td><td>-0.28<sup>**</sup></td><td>-0.08<sup></sup></td></tr><tr><td style=\"text-align:left\"></td><td>(0.08)</td><td>(0.09)</td><td>(0.13)</td></tr><td colspan=\"4\" style=\"border-bottom: 1px solid black\"></td></tr><tr><td style=\"text-align: left\">Observations</td><td>23,980</td><td>11,780</td><td>12,200</td></tr><tr><td style=\"text-align: left\">R<sup>2</sup></td><td>0.14</td><td>0.29</td><td>0.08</td></tr><tr><td style=\"text-align: left\">Adjusted R<sup>2</sup></td><td>0.14</td><td>0.29</td><td>0.08</td></tr><tr><td style=\"text-align: left\">Residual Std. Error</td><td>1.20</td><td>1.09</td><td>1.23</td></tr><tr><td style=\"text-align: left\">F Statistic</td><td>42.43<sup>***</sup></td><td>85.86<sup>***</sup></td><td>26.12<sup>***</sup></td></tr><tr><td colspan=\"4\" style=\"border-bottom: 1px solid black\"></td></tr><tr><td style=\"text-align: left\">Note:</td>\n",
              " <td colspan=\"3\" style=\"text-align: right\">\n",
              "  <sup>*</sup>p&lt;0.05;\n",
              "  <sup>**</sup>p&lt;0.01;\n",
              "  <sup>***</sup>p&lt;0.001\n",
              " </td></tr></table>"
            ]
          },
          "metadata": {},
          "execution_count": 24
        }
      ]
    },
    {
      "cell_type": "code",
      "source": [
        "pvalues"
      ],
      "metadata": {
        "colab": {
          "base_uri": "https://localhost:8080/"
        },
        "id": "PitHTkh3Lmz4",
        "outputId": "c71ba28f-428c-4dbe-f291-9e056a599af9"
      },
      "execution_count": null,
      "outputs": [
        {
          "output_type": "execute_result",
          "data": {
            "text/plain": [
              "['All (initial_rating): const: 0.0000, true_statement: 0.0000, deceptive_feedback: 0.4502, explanation: 0.2839, z_knowledge: 0.0000, deceptive_feedback_x_true_statement: 0.5920, explanation_x_true_statement: 0.3912, explanation_x_deceptive_feedback: 0.2315, true_statement_x_z_knowledge: 0.0000, explanation_x_z_knowledge: 0.4124, deceptive_feedback_x_z_knowledge: 0.0000, explanation_x_true_statement_x_z_knowledge: 0.1900, explanation_x_deceptive_feedback_x_z_knowledge: 0.3315, deceptive_feedback_x_true_statement_x_z_knowledge: 0.0000, deceptive_feedback_x_true_statement_x_explanation_x_z_knowledge: 0.0771',\n",
              " 'News (2nd Rating): const: 0.0000, true_statement: 0.0000, deceptive_feedback: 0.1443, explanation: 0.4077, z_knowledge: 0.0008, deceptive_feedback_x_true_statement: 0.0304, explanation_x_true_statement: 0.6457, explanation_x_deceptive_feedback: 0.9419, deceptive_feedback_x_true_statement_x_explanation: 0.9836, true_statement_x_z_knowledge: 0.0000, explanation_x_z_knowledge: 0.0372, deceptive_feedback_x_z_knowledge: 0.0086, explanation_x_true_statement_x_z_knowledge: 0.0831, explanation_x_deceptive_feedback_x_z_knowledge: 0.0007, deceptive_feedback_x_true_statement_x_z_knowledge: 0.0000, deceptive_feedback_x_true_statement_x_explanation_x_z_knowledge: 0.0020',\n",
              " 'Trivia (2nd Rating): const: 0.0000, true_statement: 0.1001, deceptive_feedback: 0.5246, explanation: 0.0061, z_knowledge: 0.0003, deceptive_feedback_x_true_statement: 0.5147, explanation_x_true_statement: 0.0720, explanation_x_deceptive_feedback: 0.1872, deceptive_feedback_x_true_statement_x_explanation: 0.5191, true_statement_x_z_knowledge: 0.0000, explanation_x_z_knowledge: 0.7129, deceptive_feedback_x_z_knowledge: 0.0000, explanation_x_true_statement_x_z_knowledge: 0.4565, explanation_x_deceptive_feedback_x_z_knowledge: 0.4932, deceptive_feedback_x_true_statement_x_z_knowledge: 0.0000, deceptive_feedback_x_true_statement_x_explanation_x_z_knowledge: 0.5269']"
            ]
          },
          "metadata": {},
          "execution_count": 25
        }
      ]
    },
    {
      "cell_type": "markdown",
      "source": [
        "**Personal Factors for Second Rating * Trust**"
      ],
      "metadata": {
        "id": "_gKWj06zv2YO"
      }
    },
    {
      "cell_type": "code",
      "source": [
        "stargazer, pvalues = OLS_w_moderators(df_moderators, \"second_rating\", 'z_trust', 'Trust')\n",
        "HTML(stargazer.render_html())\n",
        "\n",
        "#latex_table = stargazer.render_latex()\n",
        "#print(latex_table)"
      ],
      "metadata": {
        "colab": {
          "base_uri": "https://localhost:8080/",
          "height": 934
        },
        "id": "4UfKNW_HyQHI",
        "outputId": "6bf6c901-ba95-432f-dae8-7ba2c341d762"
      },
      "execution_count": null,
      "outputs": [
        {
          "output_type": "execute_result",
          "data": {
            "text/plain": [
              "<IPython.core.display.HTML object>"
            ],
            "text/html": [
              "<table style=\"text-align:center\"><tr><td colspan=\"4\" style=\"border-bottom: 1px solid black\"></td></tr><tr><td style=\"text-align:left\"></td><td colspan=\"3\"><em>Dependent variable:second_rating</em></td></tr><tr><td style=\"text-align:left\"></td><tr><td></td><td colspan=\"1\">All Items (second_rating)</td><td colspan=\"1\">News Headlines (second_rating)</td><td colspan=\"1\">Trivia Items (second_rating)</td></tr><tr><td style=\"text-align:left\"></td><td>(1)</td><td>(2)</td><td>(3)</td></tr><tr><td colspan=\"4\" style=\"border-bottom: 1px solid black\"></td></tr><tr><td style=\"text-align:left\">Constant</td><td>2.00<sup>***</sup></td><td>1.58<sup>***</sup></td><td>2.27<sup>***</sup></td></tr><tr><td style=\"text-align:left\"></td><td>(0.12)</td><td>(0.11)</td><td>(0.16)</td></tr><tr><td style=\"text-align:left\">True Statement</td><td>1.76<sup>***</sup></td><td>2.12<sup>***</sup></td><td>1.55<sup>***</sup></td></tr><tr><td style=\"text-align:left\"></td><td>(0.15)</td><td>(0.13)</td><td>(0.22)</td></tr><tr><td style=\"text-align:left\">Deceptive Feedback</td><td>1.11<sup>***</sup></td><td>1.00<sup>***</sup></td><td>1.21<sup>***</sup></td></tr><tr><td style=\"text-align:left\"></td><td>(0.08)</td><td>(0.10)</td><td>(0.10)</td></tr><tr><td style=\"text-align:left\">LLM Explanation</td><td>0.07<sup></sup></td><td>0.12<sup>*</sup></td><td>0.04<sup></sup></td></tr><tr><td style=\"text-align:left\"></td><td>(0.04)</td><td>(0.06)</td><td>(0.05)</td></tr><tr><td style=\"text-align:left\">Trust</td><td>-0.04<sup></sup></td><td>-0.05<sup></sup></td><td>-0.12<sup>*</sup></td></tr><tr><td style=\"text-align:left\"></td><td>(0.04)</td><td>(0.03)</td><td>(0.05)</td></tr><tr><td style=\"text-align:left\">Deceptive Feedback * True Statement</td><td>-2.41<sup>***</sup></td><td>-2.19<sup>***</sup></td><td>-2.62<sup>***</sup></td></tr><tr><td style=\"text-align:left\"></td><td>(0.10)</td><td>(0.13)</td><td>(0.14)</td></tr><tr><td style=\"text-align:left\">LLM Explanation * True Statement</td><td>-0.07<sup></sup></td><td>-0.11<sup></sup></td><td>-0.04<sup></sup></td></tr><tr><td style=\"text-align:left\"></td><td>(0.05)</td><td>(0.06)</td><td>(0.07)</td></tr><tr><td style=\"text-align:left\">Deceptive Feedback * LLM Explanation</td><td>-0.10<sup></sup></td><td>-0.12<sup></sup></td><td>-0.10<sup></sup></td></tr><tr><td style=\"text-align:left\"></td><td>(0.06)</td><td>(0.08)</td><td>(0.08)</td></tr><tr><td style=\"text-align:left\">True Statement * Trust</td><td>0.20<sup>***</sup></td><td>0.15<sup>**</sup></td><td>0.34<sup>***</sup></td></tr><tr><td style=\"text-align:left\"></td><td>(0.05)</td><td>(0.05)</td><td>(0.07)</td></tr><tr><td style=\"text-align:left\">LLM Explanation * Trust</td><td>0.01<sup></sup></td><td>0.05<sup></sup></td><td>0.04<sup></sup></td></tr><tr><td style=\"text-align:left\"></td><td>(0.04)</td><td>(0.06)</td><td>(0.05)</td></tr><tr><td style=\"text-align:left\">Deceptive Feedback * Trust</td><td>0.43<sup>***</sup></td><td>0.38<sup>***</sup></td><td>0.37<sup>***</sup></td></tr><tr><td style=\"text-align:left\"></td><td>(0.06)</td><td>(0.05)</td><td>(0.08)</td></tr><tr><td style=\"text-align:left\">True Statement * LLM Explanation * Trust</td><td>0.02<sup></sup></td><td>-0.01<sup></sup></td><td>-0.02<sup></sup></td></tr><tr><td style=\"text-align:left\"></td><td>(0.06)</td><td>(0.09)</td><td>(0.09)</td></tr><tr><td style=\"text-align:left\">LLM Explanation * Deceptive Feedback * Trust</td><td>-0.06<sup></sup></td><td>-0.05<sup></sup></td><td>-0.03<sup></sup></td></tr><tr><td style=\"text-align:left\"></td><td>(0.07)</td><td>(0.09)</td><td>(0.10)</td></tr><tr><td style=\"text-align:left\">True Statement * Deceptive Feedback * Trust</td><td>-0.77<sup>***</sup></td><td>-0.64<sup>***</sup></td><td>-0.82<sup>***</sup></td></tr><tr><td style=\"text-align:left\"></td><td>(0.09)</td><td>(0.10)</td><td>(0.14)</td></tr><tr><td style=\"text-align:left\">True Statement * LLM Explanation * Deceptive Feedback * Trust</td><td>0.02<sup></sup></td><td>-0.04<sup></sup></td><td>0.06<sup></sup></td></tr><tr><td style=\"text-align:left\"></td><td>(0.12)</td><td>(0.15)</td><td>(0.19)</td></tr><td colspan=\"4\" style=\"border-bottom: 1px solid black\"></td></tr><tr><td style=\"text-align: left\">Observations</td><td>23,980</td><td>11,780</td><td>12,200</td></tr><tr><td style=\"text-align: left\">R<sup>2</sup></td><td>0.25</td><td>0.32</td><td>0.24</td></tr><tr><td style=\"text-align: left\">Adjusted R<sup>2</sup></td><td>0.25</td><td>0.32</td><td>0.24</td></tr><tr><td style=\"text-align: left\">Residual Std. Error</td><td>1.21</td><td>1.11</td><td>1.25</td></tr><tr><td style=\"text-align: left\">F Statistic</td><td>93.67<sup>***</sup></td><td>76.80<sup>***</sup></td><td>124.26<sup>***</sup></td></tr><tr><td colspan=\"4\" style=\"border-bottom: 1px solid black\"></td></tr><tr><td style=\"text-align: left\">Note:</td>\n",
              " <td colspan=\"3\" style=\"text-align: right\">\n",
              "  <sup>*</sup>p&lt;0.05;\n",
              "  <sup>**</sup>p&lt;0.01;\n",
              "  <sup>***</sup>p&lt;0.001\n",
              " </td></tr></table>"
            ]
          },
          "metadata": {},
          "execution_count": 19
        }
      ]
    },
    {
      "cell_type": "code",
      "source": [
        "pvalues"
      ],
      "metadata": {
        "id": "i3hWD3GM7RTw",
        "outputId": "ed437357-d1f8-4617-c50f-f16d6d3d8349",
        "colab": {
          "base_uri": "https://localhost:8080/"
        }
      },
      "execution_count": null,
      "outputs": [
        {
          "output_type": "execute_result",
          "data": {
            "text/plain": [
              "['All (second_rating): const: 0.0000, true_statement: 0.0000, deceptive_feedback: 0.0000, explanation: 0.1016, z_trust: 0.2955, deceptive_feedback_x_true_statement: 0.0000, explanation_x_true_statement: 0.1782, explanation_x_deceptive_feedback: 0.0812, true_statement_x_z_trust: 0.0002, explanation_x_z_trust: 0.8114, deceptive_feedback_x_z_trust: 0.0000, explanation_x_true_statement_x_z_trust: 0.7946, explanation_x_deceptive_feedback_x_z_trust: 0.3765, deceptive_feedback_x_true_statement_x_z_trust: 0.0000, deceptive_feedback_x_true_statement_x_explanation_x_z_trust: 0.8363',\n",
              " 'News (2nd Rating): const: 0.0000, true_statement: 0.0000, deceptive_feedback: 0.0000, explanation: 0.0412, z_trust: 0.1548, deceptive_feedback_x_true_statement: 0.0000, explanation_x_true_statement: 0.0996, explanation_x_deceptive_feedback: 0.1323, true_statement_x_z_trust: 0.0034, explanation_x_z_trust: 0.3864, deceptive_feedback_x_z_trust: 0.0000, explanation_x_true_statement_x_z_trust: 0.8905, explanation_x_deceptive_feedback_x_z_trust: 0.5900, deceptive_feedback_x_true_statement_x_z_trust: 0.0000, deceptive_feedback_x_true_statement_x_explanation_x_z_trust: 0.7853',\n",
              " 'Trivia (2nd Rating): const: 0.0000, true_statement: 0.0000, deceptive_feedback: 0.0000, explanation: 0.4397, z_trust: 0.0101, deceptive_feedback_x_true_statement: 0.0000, explanation_x_true_statement: 0.5325, explanation_x_deceptive_feedback: 0.2333, true_statement_x_z_trust: 0.0000, explanation_x_z_trust: 0.3284, deceptive_feedback_x_z_trust: 0.0000, explanation_x_true_statement_x_z_trust: 0.8372, explanation_x_deceptive_feedback_x_z_trust: 0.7442, deceptive_feedback_x_true_statement_x_z_trust: 0.0000, deceptive_feedback_x_true_statement_x_explanation_x_z_trust: 0.7554']"
            ]
          },
          "metadata": {},
          "execution_count": 21
        }
      ]
    },
    {
      "cell_type": "markdown",
      "source": [
        "**Critical Reflection Score**"
      ],
      "metadata": {
        "id": "Mb5sSb91y4FZ"
      }
    },
    {
      "cell_type": "code",
      "source": [
        "stargazer, pvalues = OLS_w_moderators(df_moderators, \"second_rating\", 'z_crt', 'CRT')\n",
        "HTML(stargazer.render_html())\n",
        "\n",
        "#latex_table = stargazer.render_latex()\n",
        "#print(latex_table)"
      ],
      "metadata": {
        "colab": {
          "base_uri": "https://localhost:8080/",
          "height": 934
        },
        "id": "n2H_xBmey7EV",
        "outputId": "2a1c89b0-121e-4f43-ff93-16a462608583"
      },
      "execution_count": null,
      "outputs": [
        {
          "output_type": "execute_result",
          "data": {
            "text/plain": [
              "<IPython.core.display.HTML object>"
            ],
            "text/html": [
              "<table style=\"text-align:center\"><tr><td colspan=\"4\" style=\"border-bottom: 1px solid black\"></td></tr><tr><td style=\"text-align:left\"></td><td colspan=\"3\"><em>Dependent variable:second_rating</em></td></tr><tr><td style=\"text-align:left\"></td><tr><td></td><td colspan=\"1\">All Items (second_rating)</td><td colspan=\"1\">News Headlines (second_rating)</td><td colspan=\"1\">Trivia Items (second_rating)</td></tr><tr><td style=\"text-align:left\"></td><td>(1)</td><td>(2)</td><td>(3)</td></tr><tr><td colspan=\"4\" style=\"border-bottom: 1px solid black\"></td></tr><tr><td style=\"text-align:left\">Constant</td><td>1.99<sup>***</sup></td><td>1.56<sup>***</sup></td><td>2.25<sup>***</sup></td></tr><tr><td style=\"text-align:left\"></td><td>(0.12)</td><td>(0.11)</td><td>(0.16)</td></tr><tr><td style=\"text-align:left\">True Statement</td><td>1.77<sup>***</sup></td><td>2.13<sup>***</sup></td><td>1.59<sup>***</sup></td></tr><tr><td style=\"text-align:left\"></td><td>(0.15)</td><td>(0.14)</td><td>(0.22)</td></tr><tr><td style=\"text-align:left\">Deceptive Feedback</td><td>1.12<sup>***</sup></td><td>0.93<sup>***</sup></td><td>1.25<sup>***</sup></td></tr><tr><td style=\"text-align:left\"></td><td>(0.09)</td><td>(0.11)</td><td>(0.10)</td></tr><tr><td style=\"text-align:left\">LLM Explanation</td><td>0.09<sup>*</sup></td><td>0.16<sup>*</sup></td><td>0.04<sup></sup></td></tr><tr><td style=\"text-align:left\"></td><td>(0.05)</td><td>(0.06)</td><td>(0.05)</td></tr><tr><td style=\"text-align:left\">CRT</td><td>-0.07<sup>*</sup></td><td>-0.07<sup>*</sup></td><td>-0.08<sup>*</sup></td></tr><tr><td style=\"text-align:left\"></td><td>(0.03)</td><td>(0.03)</td><td>(0.04)</td></tr><tr><td style=\"text-align:left\">Deceptive Feedback * True Statement</td><td>-2.40<sup>***</sup></td><td>-2.08<sup>***</sup></td><td>-2.72<sup>***</sup></td></tr><tr><td style=\"text-align:left\"></td><td>(0.11)</td><td>(0.13)</td><td>(0.15)</td></tr><tr><td style=\"text-align:left\">LLM Explanation * True Statement</td><td>-0.08<sup></sup></td><td>-0.15<sup>*</sup></td><td>-0.04<sup></sup></td></tr><tr><td style=\"text-align:left\"></td><td>(0.05)</td><td>(0.07)</td><td>(0.07)</td></tr><tr><td style=\"text-align:left\">Deceptive Feedback * LLM Explanation</td><td>-0.11<sup></sup></td><td>-0.12<sup></sup></td><td>-0.11<sup></sup></td></tr><tr><td style=\"text-align:left\"></td><td>(0.06)</td><td>(0.09)</td><td>(0.08)</td></tr><tr><td style=\"text-align:left\">True Statement * CRT</td><td>0.07<sup></sup></td><td>0.02<sup></sup></td><td>0.13<sup></sup></td></tr><tr><td style=\"text-align:left\"></td><td>(0.05)</td><td>(0.06)</td><td>(0.08)</td></tr><tr><td style=\"text-align:left\">LLM Explanation * CRT</td><td>-0.04<sup></sup></td><td>-0.02<sup></sup></td><td>-0.03<sup></sup></td></tr><tr><td style=\"text-align:left\"></td><td>(0.04)</td><td>(0.04)</td><td>(0.06)</td></tr><tr><td style=\"text-align:left\">Deceptive Feedback * CRT</td><td>-0.01<sup></sup></td><td>-0.09<sup></sup></td><td>0.05<sup></sup></td></tr><tr><td style=\"text-align:left\"></td><td>(0.06)</td><td>(0.07)</td><td>(0.07)</td></tr><tr><td style=\"text-align:left\">True Statement * LLM Explanation * CRT</td><td>0.06<sup></sup></td><td>0.13<sup></sup></td><td>-0.06<sup></sup></td></tr><tr><td style=\"text-align:left\"></td><td>(0.07)</td><td>(0.08)</td><td>(0.10)</td></tr><tr><td style=\"text-align:left\">LLM Explanation * Deceptive Feedback * CRT</td><td>0.02<sup></sup></td><td>0.13<sup></sup></td><td>-0.07<sup></sup></td></tr><tr><td style=\"text-align:left\"></td><td>(0.07)</td><td>(0.09)</td><td>(0.09)</td></tr><tr><td style=\"text-align:left\">True Statement * Deceptive Feedback * CRT</td><td>0.00<sup></sup></td><td>0.16<sup></sup></td><td>-0.14<sup></sup></td></tr><tr><td style=\"text-align:left\"></td><td>(0.10)</td><td>(0.13)</td><td>(0.14)</td></tr><tr><td style=\"text-align:left\">True Statement * LLM Explanation * Deceptive Feedback * CRT</td><td>-0.02<sup></sup></td><td>-0.25<sup></sup></td><td>0.19<sup></sup></td></tr><tr><td style=\"text-align:left\"></td><td>(0.13)</td><td>(0.17)</td><td>(0.18)</td></tr><td colspan=\"4\" style=\"border-bottom: 1px solid black\"></td></tr><tr><td style=\"text-align: left\">Observations</td><td>23,980</td><td>11,780</td><td>12,200</td></tr><tr><td style=\"text-align: left\">R<sup>2</sup></td><td>0.22</td><td>0.30</td><td>0.23</td></tr><tr><td style=\"text-align: left\">Adjusted R<sup>2</sup></td><td>0.22</td><td>0.30</td><td>0.23</td></tr><tr><td style=\"text-align: left\">Residual Std. Error</td><td>1.23</td><td>1.13</td><td>1.27</td></tr><tr><td style=\"text-align: left\">F Statistic</td><td>75.46<sup>***</sup></td><td>60.48<sup>***</sup></td><td>94.03<sup>***</sup></td></tr><tr><td colspan=\"4\" style=\"border-bottom: 1px solid black\"></td></tr><tr><td style=\"text-align: left\">Note:</td>\n",
              " <td colspan=\"3\" style=\"text-align: right\">\n",
              "  <sup>*</sup>p&lt;0.05;\n",
              "  <sup>**</sup>p&lt;0.01;\n",
              "  <sup>***</sup>p&lt;0.001\n",
              " </td></tr></table>"
            ]
          },
          "metadata": {},
          "execution_count": 17
        }
      ]
    },
    {
      "cell_type": "code",
      "source": [
        "pvalues"
      ],
      "metadata": {
        "colab": {
          "base_uri": "https://localhost:8080/"
        },
        "id": "2Tmk1qljilJY",
        "outputId": "b8cc4828-2ef3-4a7e-8dfc-5695bdc950f7"
      },
      "execution_count": null,
      "outputs": [
        {
          "output_type": "execute_result",
          "data": {
            "text/plain": [
              "['All (second_rating): const: 0.0000, true_statement: 0.0000, deceptive_feedback: 0.0000, explanation: 0.0476, z_crt: 0.0273, deceptive_feedback_x_true_statement: 0.0000, explanation_x_true_statement: 0.1197, explanation_x_deceptive_feedback: 0.0724, true_statement_x_z_crt: 0.2192, explanation_x_z_crt: 0.3322, deceptive_feedback_x_z_crt: 0.8898, explanation_x_true_statement_x_z_crt: 0.3921, explanation_x_deceptive_feedback_x_z_crt: 0.8335, deceptive_feedback_x_true_statement_x_z_crt: 0.9777, deceptive_feedback_x_true_statement_x_explanation_x_z_crt: 0.8662',\n",
              " 'News (2nd Rating): const: 0.0000, true_statement: 0.0000, deceptive_feedback: 0.0000, explanation: 0.0123, z_crt: 0.0494, deceptive_feedback_x_true_statement: 0.0000, explanation_x_true_statement: 0.0224, explanation_x_deceptive_feedback: 0.1685, true_statement_x_z_crt: 0.7687, explanation_x_z_crt: 0.5576, deceptive_feedback_x_z_crt: 0.1979, explanation_x_true_statement_x_z_crt: 0.1190, explanation_x_deceptive_feedback_x_z_crt: 0.1456, deceptive_feedback_x_true_statement_x_z_crt: 0.2045, deceptive_feedback_x_true_statement_x_explanation_x_z_crt: 0.1465',\n",
              " 'Trivia (2nd Rating): const: 0.0000, true_statement: 0.0000, deceptive_feedback: 0.0000, explanation: 0.4055, z_crt: 0.0341, deceptive_feedback_x_true_statement: 0.0000, explanation_x_true_statement: 0.6118, explanation_x_deceptive_feedback: 0.1883, true_statement_x_z_crt: 0.1042, explanation_x_z_crt: 0.5634, deceptive_feedback_x_z_crt: 0.4895, explanation_x_true_statement_x_z_crt: 0.5596, explanation_x_deceptive_feedback_x_z_crt: 0.4810, deceptive_feedback_x_true_statement_x_z_crt: 0.3246, deceptive_feedback_x_true_statement_x_explanation_x_z_crt: 0.2898']"
            ]
          },
          "metadata": {},
          "execution_count": 18
        }
      ]
    },
    {
      "cell_type": "markdown",
      "source": [
        "**Logical Validity**"
      ],
      "metadata": {
        "id": "gliv0WB6yZmh"
      }
    },
    {
      "cell_type": "code",
      "source": [
        "def OLS_w_moderators_validity(df_, dvar, moderator, moderator_name):\n",
        "  x = []\n",
        "\n",
        "  # By stimulus types\n",
        "  for j in [0,1]:\n",
        "      i = df_moderators[(df_moderators.trivia==j)]\n",
        "      i.stimulus_ID = i.stimulus_ID.astype(int)\n",
        "      i.PROLIFIC_PID = pd.Categorical(i.PROLIFIC_PID)\n",
        "      i['PROLIFIC_PID2'] = i.PROLIFIC_PID.cat.codes\n",
        "      res = sm.OLS(\n",
        "              i[dvar],\n",
        "              sm.add_constant(i[[\n",
        "                  'true_statement',\n",
        "                  'deceptive_feedback',\n",
        "                  moderator,\n",
        "                  \"deceptive_feedback_x_true_statement\",\n",
        "                  'true_statement_x_'+moderator,\n",
        "                  'deceptive_feedback_x_'+moderator,\n",
        "                  'deceptive_feedback_x_true_statement_x_'+moderator\n",
        "              ]]),\n",
        "              M=sm.robust.norms.HuberT()).fit(cov_type='cluster', cov_kwds={'groups': np.array(i[['PROLIFIC_PID2',\"stimulus_ID\"]])})\n",
        "      res.summary()\n",
        "      res.dvar = \"Trivia (2nd Rating)\" if j == 1 else \"News (2nd Rating)\"\n",
        "      x.append(res)\n",
        "\n",
        "  stargazer = Stargazer([x[0],x[1]])\n",
        "\n",
        "  stargazer.covariate_order([\n",
        "                              'const',\n",
        "                              'true_statement',\n",
        "                              'deceptive_feedback',\n",
        "                              moderator,\n",
        "                              \"deceptive_feedback_x_true_statement\",\n",
        "                              'true_statement_x_'+moderator,\n",
        "                              'deceptive_feedback_x_'+moderator,\n",
        "                             'deceptive_feedback_x_true_statement_x_'+moderator\n",
        "                            ])\n",
        "\n",
        "  stargazer.rename_covariates({\n",
        "                              'const':'Constant',\n",
        "                              'true_statement':'True Statement',\n",
        "                              moderator:moderator_name,\n",
        "                              'deceptive_feedback':'Deceptive Feedback',\n",
        "                              \"deceptive_feedback_x_true_statement\": \"Deceptive Feedback * True Statement\",\n",
        "                              f'true_statement_x_{moderator}': f\"True Statement * {moderator_name}\",\n",
        "                              f'deceptive_feedback_x_{moderator}': f\"Deceptive Feedback * {moderator_name}\",\n",
        "                               'deceptive_feedback_x_true_statement_x_'+moderator : f\"True Statement * Deceptive Feedback * {moderator_name}\",\n",
        "                              })\n",
        "\n",
        "  stargazer.custom_columns([f'News Headlines ({dvar})',f'Trivia Items ({dvar})'],\n",
        "                          [1,\n",
        "                           #1,\n",
        "                           1,\n",
        "                          ])\n",
        "\n",
        "  stargazer.significant_digits(2)\n",
        "  stargazer.show_degrees_of_freedom(False)\n",
        "  stargazer.significance_levels([0.05, 0.01, 0.001])\n",
        "  stargazer.show_model_numbers(True)\n",
        "\n",
        "  p_values_str = []\n",
        "  for res in x:\n",
        "      p_value_str = res.dvar+': '+', '.join([f\"{var}: {p:.4f}\" for var, p in zip(res.params.index, res.pvalues)])\n",
        "      p_values_str.append(p_value_str)\n",
        "\n",
        "  return stargazer, p_values_str"
      ],
      "metadata": {
        "id": "mFe0uzWCCPz1"
      },
      "execution_count": null,
      "outputs": []
    },
    {
      "cell_type": "code",
      "source": [
        "df_explantions_only = df_moderators[df_moderators.explanation==1]\n",
        "\n",
        "stargazer, pvalues = OLS_w_moderators_validity(df_explantions_only, \"second_rating\", 'z_valid_statement', 'Logical Validity')\n",
        "HTML(stargazer.render_html())\n",
        "#latex_table = stargazer.render_latex()\n",
        "#print(latex_table)"
      ],
      "metadata": {
        "colab": {
          "base_uri": "https://localhost:8080/",
          "height": 612
        },
        "id": "_xm8zI-8ybo5",
        "outputId": "423b1e99-1118-42ec-8eff-0b948f3b5f0f"
      },
      "execution_count": null,
      "outputs": [
        {
          "output_type": "execute_result",
          "data": {
            "text/plain": [
              "<IPython.core.display.HTML object>"
            ],
            "text/html": [
              "<table style=\"text-align:center\"><tr><td colspan=\"3\" style=\"border-bottom: 1px solid black\"></td></tr><tr><td style=\"text-align:left\"></td><td colspan=\"2\"><em>Dependent variable:second_rating</em></td></tr><tr><td style=\"text-align:left\"></td><tr><td></td><td colspan=\"1\">News Headlines (second_rating)</td><td colspan=\"1\">Trivia Items (second_rating)</td></tr><tr><td style=\"text-align:left\"></td><td>(1)</td><td>(2)</td></tr><tr><td colspan=\"3\" style=\"border-bottom: 1px solid black\"></td></tr><tr><td style=\"text-align:left\">Constant</td><td>1.66<sup>***</sup></td><td>2.28<sup>***</sup></td></tr><tr><td style=\"text-align:left\"></td><td>(0.10)</td><td>(0.15)</td></tr><tr><td style=\"text-align:left\">True Statement</td><td>2.04<sup>***</sup></td><td>1.55<sup>***</sup></td></tr><tr><td style=\"text-align:left\"></td><td>(0.13)</td><td>(0.20)</td></tr><tr><td style=\"text-align:left\">Deceptive Feedback</td><td>0.92<sup>***</sup></td><td>1.20<sup>***</sup></td></tr><tr><td style=\"text-align:left\"></td><td>(0.09)</td><td>(0.12)</td></tr><tr><td style=\"text-align:left\">Logical Validity</td><td>-0.12<sup></sup></td><td>-0.09<sup></sup></td></tr><tr><td style=\"text-align:left\"></td><td>(0.09)</td><td>(0.15)</td></tr><tr><td style=\"text-align:left\">Deceptive Feedback * True Statement</td><td>-2.14<sup>***</sup></td><td>-2.69<sup>***</sup></td></tr><tr><td style=\"text-align:left\"></td><td>(0.12)</td><td>(0.16)</td></tr><tr><td style=\"text-align:left\">True Statement * Logical Validity</td><td>0.10<sup></sup></td><td>-0.01<sup></sup></td></tr><tr><td style=\"text-align:left\"></td><td>(0.12)</td><td>(0.20)</td></tr><tr><td style=\"text-align:left\">Deceptive Feedback * Logical Validity</td><td>0.35<sup>*</sup></td><td>0.13<sup></sup></td></tr><tr><td style=\"text-align:left\"></td><td>(0.14)</td><td>(0.19)</td></tr><tr><td style=\"text-align:left\">True Statement * Deceptive Feedback * Logical Validity</td><td>-0.31<sup></sup></td><td>-0.18<sup></sup></td></tr><tr><td style=\"text-align:left\"></td><td>(0.20)</td><td>(0.31)</td></tr><td colspan=\"3\" style=\"border-bottom: 1px solid black\"></td></tr><tr><td style=\"text-align: left\">Observations</td><td>11,780</td><td>12,200</td></tr><tr><td style=\"text-align: left\">R<sup>2</sup></td><td>0.30</td><td>0.23</td></tr><tr><td style=\"text-align: left\">Adjusted R<sup>2</sup></td><td>0.30</td><td>0.23</td></tr><tr><td style=\"text-align: left\">Residual Std. Error</td><td>1.13</td><td>1.26</td></tr><tr><td style=\"text-align: left\">F Statistic</td><td>103.59<sup>***</sup></td><td>85.10<sup>***</sup></td></tr><tr><td colspan=\"3\" style=\"border-bottom: 1px solid black\"></td></tr><tr><td style=\"text-align: left\">Note:</td>\n",
              " <td colspan=\"2\" style=\"text-align: right\">\n",
              "  <sup>*</sup>p&lt;0.05;\n",
              "  <sup>**</sup>p&lt;0.01;\n",
              "  <sup>***</sup>p&lt;0.001\n",
              " </td></tr></table>"
            ]
          },
          "metadata": {},
          "execution_count": 89
        }
      ]
    },
    {
      "cell_type": "code",
      "source": [
        "pvalues"
      ],
      "metadata": {
        "colab": {
          "base_uri": "https://localhost:8080/"
        },
        "id": "-feUCdt0AfWe",
        "outputId": "04645ca6-752d-4c3b-ae48-5f0857f21d8b"
      },
      "execution_count": null,
      "outputs": [
        {
          "output_type": "execute_result",
          "data": {
            "text/plain": [
              "['News (2nd Rating): const: 0.0000, true_statement: 0.0000, deceptive_feedback: 0.0000, z_valid_statement: 0.1843, deceptive_feedback_x_true_statement: 0.0000, true_statement_x_z_valid_statement: 0.4202, deceptive_feedback_x_z_valid_statement: 0.0152, deceptive_feedback_x_true_statement_x_z_valid_statement: 0.1308',\n",
              " 'Trivia (2nd Rating): const: 0.0000, true_statement: 0.0000, deceptive_feedback: 0.0000, z_valid_statement: 0.5595, deceptive_feedback_x_true_statement: 0.0000, true_statement_x_z_valid_statement: 0.9536, deceptive_feedback_x_z_valid_statement: 0.4974, deceptive_feedback_x_true_statement_x_z_valid_statement: 0.5613']"
            ]
          },
          "metadata": {},
          "execution_count": 9
        }
      ]
    },
    {
      "cell_type": "code",
      "source": [
        "df_explantions_only = df_moderators[df_moderators.explanation==1]\n",
        "\n",
        "stargazer, pvalues = OLS_w_moderators_validity(df_explantions_only, \"second_rating\", 'z_invalid_statement', 'Logically Invalid')\n",
        "HTML(stargazer.render_html())\n",
        "#latex_table = stargazer.render_latex()\n",
        "#print(latex_table)"
      ],
      "metadata": {
        "colab": {
          "base_uri": "https://localhost:8080/",
          "height": 612
        },
        "id": "VrZLK_afKu1h",
        "outputId": "05a18a7d-84c2-4986-a279-77b8b11d6868"
      },
      "execution_count": null,
      "outputs": [
        {
          "output_type": "execute_result",
          "data": {
            "text/plain": [
              "<IPython.core.display.HTML object>"
            ],
            "text/html": [
              "<table style=\"text-align:center\"><tr><td colspan=\"3\" style=\"border-bottom: 1px solid black\"></td></tr><tr><td style=\"text-align:left\"></td><td colspan=\"2\"><em>Dependent variable:second_rating</em></td></tr><tr><td style=\"text-align:left\"></td><tr><td></td><td colspan=\"1\">News Headlines (second_rating)</td><td colspan=\"1\">Trivia Items (second_rating)</td></tr><tr><td style=\"text-align:left\"></td><td>(1)</td><td>(2)</td></tr><tr><td colspan=\"3\" style=\"border-bottom: 1px solid black\"></td></tr><tr><td style=\"text-align:left\">Constant</td><td>1.66<sup>***</sup></td><td>2.28<sup>***</sup></td></tr><tr><td style=\"text-align:left\"></td><td>(0.10)</td><td>(0.15)</td></tr><tr><td style=\"text-align:left\">True Statement</td><td>2.04<sup>***</sup></td><td>1.55<sup>***</sup></td></tr><tr><td style=\"text-align:left\"></td><td>(0.13)</td><td>(0.20)</td></tr><tr><td style=\"text-align:left\">Deceptive Feedback</td><td>0.92<sup>***</sup></td><td>1.20<sup>***</sup></td></tr><tr><td style=\"text-align:left\"></td><td>(0.09)</td><td>(0.12)</td></tr><tr><td style=\"text-align:left\">Logically Invalid</td><td>0.12<sup></sup></td><td>0.09<sup></sup></td></tr><tr><td style=\"text-align:left\"></td><td>(0.09)</td><td>(0.15)</td></tr><tr><td style=\"text-align:left\">Deceptive Feedback * True Statement</td><td>-2.14<sup>***</sup></td><td>-2.69<sup>***</sup></td></tr><tr><td style=\"text-align:left\"></td><td>(0.12)</td><td>(0.16)</td></tr><tr><td style=\"text-align:left\">True Statement * Logically Invalid</td><td>-0.10<sup></sup></td><td>0.01<sup></sup></td></tr><tr><td style=\"text-align:left\"></td><td>(0.12)</td><td>(0.20)</td></tr><tr><td style=\"text-align:left\">Deceptive Feedback * Logically Invalid</td><td>-0.35<sup>*</sup></td><td>-0.13<sup></sup></td></tr><tr><td style=\"text-align:left\"></td><td>(0.14)</td><td>(0.19)</td></tr><tr><td style=\"text-align:left\">True Statement * Deceptive Feedback * Logically Invalid</td><td>0.31<sup></sup></td><td>0.18<sup></sup></td></tr><tr><td style=\"text-align:left\"></td><td>(0.20)</td><td>(0.31)</td></tr><td colspan=\"3\" style=\"border-bottom: 1px solid black\"></td></tr><tr><td style=\"text-align: left\">Observations</td><td>11,780</td><td>12,200</td></tr><tr><td style=\"text-align: left\">R<sup>2</sup></td><td>0.30</td><td>0.23</td></tr><tr><td style=\"text-align: left\">Adjusted R<sup>2</sup></td><td>0.30</td><td>0.23</td></tr><tr><td style=\"text-align: left\">Residual Std. Error</td><td>1.13</td><td>1.26</td></tr><tr><td style=\"text-align: left\">F Statistic</td><td>103.59<sup>***</sup></td><td>85.10<sup>***</sup></td></tr><tr><td colspan=\"3\" style=\"border-bottom: 1px solid black\"></td></tr><tr><td style=\"text-align: left\">Note:</td>\n",
              " <td colspan=\"2\" style=\"text-align: right\">\n",
              "  <sup>*</sup>p&lt;0.05;\n",
              "  <sup>**</sup>p&lt;0.01;\n",
              "  <sup>***</sup>p&lt;0.001\n",
              " </td></tr></table>"
            ]
          },
          "metadata": {},
          "execution_count": 10
        }
      ]
    },
    {
      "cell_type": "markdown",
      "source": [
        "# Plotting"
      ],
      "metadata": {
        "id": "GIKq0_eW-6wr"
      }
    },
    {
      "cell_type": "code",
      "source": [
        "#@markdown Run simple anovas on the graph - Install libraries\n",
        "\n",
        "!pip install 'pingouin==0.5.2'\n",
        "!pip install 'scikit-posthocs == 0.7.0'\n",
        "!pip install 'statannotations == 0.4.4'\n",
        "\n",
        "from IPython.display import clear_output\n",
        "clear_output()\n",
        "\n",
        "import itertools\n",
        "import scikit_posthocs as sp\n",
        "import matplotlib.pyplot as plt\n",
        "import seaborn as sns\n",
        "import pandas as pd\n",
        "\n",
        "def prerun_stats (sample_keys, group_label, data, y, stats_viz=False):\n",
        "\n",
        "  ## Stats\n",
        "  import scipy.stats as stats\n",
        "  from pingouin import welch_anova, pairwise_gameshowell, pairwise_tukey\n",
        "  from statistics import stdev\n",
        "  import numpy as np\n",
        "\n",
        "  MIN_SAMPLE_SIZE = 25\n",
        "  TOLERANCE = 0.15\n",
        "\n",
        "  sample_data = [data.copy().apply(lambda z: z[y] if z[group_label] == key else None, axis=1).dropna() for key in sample_keys]\n",
        "  #sample_data = [data[data[group_label]==key][y] for key in sample_keys]\n",
        "\n",
        "\n",
        "  sample_data_w_keys = pd.concat([pd.DataFrame({y:data.values, group_label:sample_keys[i]}) for i, data in enumerate(sample_data.copy())], axis=0, ignore_index=True)\n",
        "\n",
        "  if stats_viz is True:\n",
        "    print(f\"Running stats between the samples: {sample_keys}\")\n",
        "\n",
        "  # Means for each sample group\n",
        "  means_table = data[group_label].value_counts()\n",
        "\n",
        "  # Check if *all* data points for each sample group are over 25\n",
        "  sample_sizes_sufficient = all([sample > MIN_SAMPLE_SIZE for sample in means_table])\n",
        "\n",
        "  # Check if means are equal within the TOLERANCE for each sample group\n",
        "  sample_sizes_equal = all([abs(sample1 - sample2) < np.mean(means_table) * TOLERANCE for sample1, sample2 in itertools.combinations(means_table, 2)])\n",
        "\n",
        "  # Dunn Test\n",
        "  dunn = sp.posthoc_dunn(sample_data, p_adjust='bonferroni')\n",
        "  replacer = {i+1:key for i, key in enumerate(sample_keys)}\n",
        "  dunn.rename(columns = replacer, index=replacer, inplace=True)\n",
        "\n",
        "  # Compile all stats into list\n",
        "  statz = {'sample_sizes_sufficient': sample_sizes_sufficient,\n",
        "          'sample_sizes_equal':      sample_sizes_equal,\n",
        "          'shapiro':                 stats.shapiro(data[y]),\n",
        "          'levene':                  stats.levene(*sample_data),\n",
        "          'f_oneway':                stats.f_oneway(*sample_data),\n",
        "          'kruskal':                 stats.kruskal(*sample_data),\n",
        "          'welch_anova':             welch_anova(dv=y, between=group_label, data=sample_data_w_keys),\n",
        "          'gameshowell':             pairwise_gameshowell(dv=y, between=group_label, data=sample_data_w_keys).round(3),\n",
        "          'tukey':                   pairwise_tukey(dv=y, between=group_label, data=sample_data_w_keys).round(3),\n",
        "          'dunn':                    dunn,\n",
        "          'mean_std':                {key:{'mean' : np.mean(population), \\\n",
        "                                           'std' : stats.tstd(population)} for key, population in zip(sample_keys, sample_data)},\n",
        "  }\n",
        "\n",
        "  return statz\n",
        "\n",
        "\n",
        "\n",
        "def stats_tree(sample_keys, sample_sizes_sufficient, sample_sizes_equal, shapiro, levene, f_oneway, kruskal, welch_anova, gameshowell, tukey, dunn, mean_std=None, stats_viz=False):\n",
        "\n",
        "  import itertools\n",
        "\n",
        "  ALPHA = 0.05\n",
        "  indent = '   '\n",
        "\n",
        "\n",
        "  if sample_sizes_sufficient or shapiro.pvalue > ALPHA:\n",
        "    if stats_viz is True:\n",
        "      print(\"> Sample size sufficient\" if sample_sizes_sufficient else f\">Sample size insufficient but *normality is met*: w_shapiro={shapiro.statistic}, p_shapiro={shapiro.pvalue}\")\n",
        "\n",
        "    if sample_sizes_equal or levene.pvalue > ALPHA:\n",
        "      if stats_viz is True:\n",
        "        print(f\"{indent*1}> Sample sizes equal\" if sample_sizes_equal else f\"{indent*1}>Sample sizes not equal but *homogeneity is met*: s_levene={levene.statistic}, p_levene={levene.pvalue}\")\n",
        "\n",
        "      if f_oneway.pvalue < ALPHA:\n",
        "        if stats_viz is True:\n",
        "          print(f\"{indent*2}> Thus running BASIC ANOVA:\\n{indent*3}> Basic ANOVA (f_oneway) *significant*: s_bANOVA={f_oneway.statistic}, p_bANOVA={f_oneway.pvalue}\")\n",
        "          print(f\"\\n> Thus running Tukey Test:\")\n",
        "          print(tukey)\n",
        "          print(f\"mean_std: {mean_std}\")\n",
        "\n",
        "        pairs = (zip(tukey[\"A\"].tolist(), tukey[\"B\"].tolist()))\n",
        "        p_values = tukey[\"p-tukey\"].tolist()\n",
        "\n",
        "        return pairs, p_values\n",
        "\n",
        "      elif f_oneway.pvalue > ALPHA:\n",
        "        if stats_viz is True:\n",
        "          print(f\"{indent*2}> Thus running BASIC ANOVA:\\n{indent*3}> Basic ANOVA *NOT SIGNIFICANT*: s_bANOVA={f_oneway.statistic}, p_bANOVA={f_oneway.pvalue}\" if stats_viz is True else \"\")\n",
        "          print(f\"mean_std: {mean_std}\" )\n",
        "\n",
        "        pairs = (zip(tukey[\"A\"].tolist(), tukey[\"B\"].tolist()))\n",
        "        p_values = tukey[\"p-tukey\"].tolist()\n",
        "\n",
        "        return pairs, p_values\n",
        "\n",
        "    elif not sample_sizes_equal or levene.pvalue < ALPHA:\n",
        "      if stats_viz is True:\n",
        "        print(f\"{indent*1}> Sample sizes are unequal and homogeneity *NOT MET*: w_levene={levene.statistic}, p_levene={levene.pvalue}\")\n",
        "\n",
        "      if welch_anova['p-unc'][0] < ALPHA:\n",
        "        if stats_viz is True:\n",
        "          print(f\"{indent*3}> Thus running ANOVA Welch:\\n{indent*4}> ANOVA Welch *SIGNIFICANT*: welch=\\n{welch_anova}\")#{welch_anova['F']}, p_welch={welch_anova['p-unc'][0]}\")\n",
        "          print(f\"\\n>Thus running Games-Howell test:\")\n",
        "          print(gameshowell)\n",
        "          print(f\"mean_std: {mean_std}\")\n",
        "\n",
        "        pairs = (zip(gameshowell[\"A\"].tolist(), gameshowell[\"B\"].tolist()))\n",
        "        p_values = gameshowell[\"pval\"].tolist()\n",
        "\n",
        "        return pairs, p_values\n",
        "\n",
        "      elif welch_anova['p-unc'][0] > ALPHA:\n",
        "        if stats_viz is True:\n",
        "          print(f\"{indent*3}> Thus running ANOVA Welch:\\n{indent*4}> ANOVA Welch *NOT SIGNIFICANT*: welch=\\n{welch_anova}\")#F_welch={welch_anova['F']}, p_welch={welch_anova['p-unc'][0]}\")\n",
        "          print(f\"mean_std: {mean_std}\")\n",
        "\n",
        "        pairs = (zip(gameshowell[\"A\"].tolist(), gameshowell[\"B\"].tolist()))\n",
        "        p_values = gameshowell[\"pval\"].tolist()\n",
        "\n",
        "        return pairs, p_values\n",
        "\n",
        "  elif not sample_sizes_sufficient or shapiro.pvalue < ALPHA:\n",
        "    if stats_viz is True:\n",
        "      print(f\"{indent*1}> Both minimum sample size and normality were *NOT MET*: w_shapiro={shapiro.statistic}, p_shapiro={shapiro.pvalue}\")\n",
        "\n",
        "    if kruskal.pvalue < ALPHA:\n",
        "      if stats_viz is True:\n",
        "        print(f\"{indent*2}> Thus running Kruskal Wallis:\\n Kruskal Wallis *SIGNIFICANT*: s_kruskal={kruskal.statistic}, p_kruskal={kruskal.pvalue}\")\n",
        "        print(f\"{indent*2}> Running DUNN test:\")\n",
        "        print(dunn)\n",
        "        print(f\"mean_std: {mean_std}\")\n",
        "\n",
        "      pairs = [p for p in itertools.combinations(sample_keys, 2)]\n",
        "      p_values = [dunn.at[x[0],x[1]] for x in pairs]\n",
        "\n",
        "      return pairs, p_values\n",
        "\n",
        "    elif kruskal.pvalue > ALPHA:\n",
        "      if stats_viz is True:\n",
        "        print(f\"{indent*2}> Thus running Kruskal Wallis:\\n{indent*3}>Kruskal Wallis *NOT SIGNIFICANT*: s_kruskal={kruskal.statistic}, p_kruskal={kruskal.pvalue}\")\n",
        "        print(f\"mean_std: {mean_std}\")\n",
        "\n",
        "      pairs = [p for p in itertools.combinations(sample_keys, 2)]\n",
        "      p_values = [dunn.at[x[0],x[1]] for x in pairs]\n",
        "\n",
        "      return pairs, p_values\n",
        "\n",
        "\n",
        "def plot_stats(pairs, p_values, y, x, title, hue=None, figsize=None, ylim=None, plot_params=None, **kwgs):\n",
        "\n",
        "  from statannotations.Annotator import Annotator\n",
        "\n",
        "  if figsize is None:\n",
        "    fig = plt.figure()\n",
        "    ax = fig.add_subplot(1,1,1)\n",
        "\n",
        "  else:\n",
        "    fig, ax = plt.subplots(figsize=figsize)\n",
        "\n",
        "  plt.tight_layout()\n",
        "  sns.barplot(ax=ax,\n",
        "              alpha=.99,\n",
        "              errcolor=\"black\",\n",
        "              errwidth=2,\n",
        "              capsize=.05,\n",
        "              **plot_params)\n",
        "\n",
        "  annot = Annotator(ax, pairs, **plot_params)\n",
        "  annot.configure(text_format=\"star\", loc=\"inside\")\n",
        "  annot.set_pvalues_and_annotate(p_values)\n",
        "\n",
        "  # styling\n",
        "  #ax.text(x=0.5, y=-0.3, s=lbl, fontsize=10, ha='center', va='bottom', transform=ax.transAxes)\n",
        "\n",
        "  if title is None:\n",
        "    ax.set_title(f\"{y} for {x}\")\n",
        "  else:\n",
        "    ax.set_title(title)\n",
        "\n",
        "  if ylim is not None:\n",
        "    ax.set_ylim(ylim)\n",
        "\n",
        "  ax.legend(loc='lower left')\n",
        "  ax.set_xlabel(\"\")\n",
        "  #plt.legend(loc='upper left')\n",
        "\n",
        "  fig.savefig(\"f1_acc_{}.png\".format(title),dpi=600, bbox_inches=\"tight\")\n",
        "\n",
        "  plt.show()\n",
        "\n",
        "\n",
        "def stats(data, y, x, hue=None, graph_viz=True, title=None, stats_viz=False, ylim=None, figsize=None, plot_params=None, **kwgs):\n",
        "\n",
        "  target_data = [data] # The data to be used for statistical analysis\n",
        "  target_label = x # The column name with the groups to be compared between\n",
        "  within_sample = [None] # The value of a column for hue groups to be compared within\n",
        "\n",
        "  if hue is not None:\n",
        "\n",
        "    within_sample = data[x].unique()\n",
        "    target_data = [data[data[x]==group] for group in within_sample]\n",
        "    target_label = hue\n",
        "\n",
        "  pairs = []\n",
        "  p_values = []\n",
        "\n",
        "  for i, data in enumerate(target_data):\n",
        "\n",
        "    if stats_viz is True:\n",
        "      print(f\"----\\nWithin the '{within_sample[i]}' group of '{x}':\\n----\" if len(within_sample) > 1 else \"----\")\n",
        "\n",
        "    sample_keys = [key for key in data[target_label].unique()]\n",
        "    stat_results = prerun_stats (sample_keys, target_label, data, y, stats_viz=stats_viz)\n",
        "    pair, p_value = stats_tree(sample_keys, **stat_results, stats_viz=stats_viz)\n",
        "\n",
        "    for pair_item, p_value_item in zip(pair, p_value):\n",
        "      if hue is not None:\n",
        "        pair_item = [pair_w_sample_label for pair_w_sample_label in itertools.product([within_sample[i]],pair_item)]\n",
        "      pairs.append(pair_item)\n",
        "      p_values.append(p_value_item)\n",
        "    print(\"----\" if stats_viz is True else \"\")\n",
        "\n",
        "  if graph_viz:\n",
        "    plot_stats(pairs, p_values, ylim=ylim, title=title, figsize=figsize, plot_params=plot_params, **plot_params)\n",
        "\n",
        "print(\"Installation Complete\")"
      ],
      "metadata": {
        "colab": {
          "base_uri": "https://localhost:8080/",
          "height": 1000
        },
        "cellView": "form",
        "id": "j392u_oyJooB",
        "outputId": "08b8dc1d-80f8-42b7-c19c-fd7a405ca220"
      },
      "execution_count": null,
      "outputs": [
        {
          "output_type": "stream",
          "name": "stdout",
          "text": [
            "Installation Complete\n"
          ]
        }
      ]
    },
    {
      "cell_type": "code",
      "source": [
        "# Accuracy main effects\n",
        "\n",
        "# Create a new DataFrame with the columns you want to keep\n",
        "new_df = df.copy().drop(columns=['second_rating'])\n",
        "\n",
        "# Rename the 'initial_rating' column to 'second_rating'\n",
        "new_df.rename(columns={'initial_rating': 'second_rating'}, inplace=True)\n",
        "\n",
        "# Add a new column 'explanation_type' with the value 'Control'\n",
        "new_df['explanation_type'] = 'No Feedback'\n",
        "new_df['text_explanation'] = 'No Feedback'\n",
        "new_df['explanation'] = 0\n",
        "\n",
        "# Concatenate the original DataFrame with the new DataFrame\n",
        "result_df = pd.concat([df, new_df], ignore_index=True)\n",
        "\n",
        "# Reset the index of the resulting DataFrame\n",
        "result_df.reset_index(drop=True, inplace=True)\n",
        "\n",
        "# Calculate accuracy\n",
        "result_df['second_rating_accuracy']  = result_df.apply(lambda x: (1 - abs( x.true_statement - x['second_rating'] /5))*100, axis=1)\n",
        "result_df['x-axis'] = \"\""
      ],
      "metadata": {
        "id": "bx84PyzPHHF3"
      },
      "execution_count": null,
      "outputs": []
    },
    {
      "cell_type": "markdown",
      "source": [
        "#### OVERALL EFFECTS"
      ],
      "metadata": {
        "id": "P88wsmeNHE88"
      }
    },
    {
      "cell_type": "code",
      "source": [
        "def plotter(data, name, hue, palette):\n",
        "    data['explanation_type'] = data['explanation_type'].map({'No Feedback':'No Feedback', 'Honest': 'Honest Explanation', 'Deceptive':'Deceptive Explanation'})\n",
        "    data['Accuracy (%)'] = data['second_rating_accuracy']\n",
        "\n",
        "    # Plot settings\n",
        "    plot_params = {\n",
        "        'x': \"x-axis\",\n",
        "        'y' : \"Accuracy (%)\",\n",
        "        'hue' : hue,\n",
        "        'data' : data,\n",
        "        'palette': palette,\n",
        "        'hue_order' : [\"No Feedback\",\"Honest Explanation\",\"Deceptive Explanation\"],\n",
        "    }\n",
        "    # Stats\n",
        "    stats(**plot_params, graph_viz=True, title=\"\", ylim=[0,100], figsize=[3,5], stats_viz=True, plot_params=plot_params)\n",
        "\n",
        "\n",
        "blue_palette = sns.set_palette(sns.color_palette([lightgrey, blue, red]))\n",
        "plotter(result_df[(result_df.trivia==0) & (result_df.explanation == 1)],\"Truth Ratings of News Headlines\",\"explanation_type\", blue_palette)"
      ],
      "metadata": {
        "colab": {
          "base_uri": "https://localhost:8080/",
          "height": 1000
        },
        "id": "Ja9Uwhj9HUHm",
        "outputId": "b19c8c88-5e3e-45c2-b7e0-3179e2eaa31a"
      },
      "execution_count": null,
      "outputs": [
        {
          "output_type": "stream",
          "name": "stdout",
          "text": [
            "----\n",
            "Running stats between the samples: ['Deceptive Explanation', 'Honest Explanation', 'No Feedback']\n",
            "> Sample size sufficient\n",
            "   > Sample sizes are unequal and homogeneity *NOT MET*: w_levene=193.40206642153333, p_levene=2.1487145570717664e-83\n",
            "         > Thus running ANOVA Welch:\n",
            "            > ANOVA Welch *SIGNIFICANT*: welch=\n",
            "             Source  ddof1        ddof2           F  p-unc       np2\n",
            "0  explanation_type      2  6461.581761  951.778756    0.0  0.140276\n",
            "\n",
            ">Thus running Games-Howell test:\n",
            "                       A                   B  mean(A)  mean(B)    diff     se  \\\n",
            "0  Deceptive Explanation  Honest Explanation   47.213   72.502 -25.288  0.580   \n",
            "1  Deceptive Explanation         No Feedback   47.213   63.505 -16.292  0.540   \n",
            "2     Honest Explanation         No Feedback   72.502   63.505   8.997  0.466   \n",
            "\n",
            "        T        df  pval  hedges  \n",
            "0 -43.581  5738.233   0.0  -1.125  \n",
            "1 -30.175  5589.093   0.0  -0.673  \n",
            "2  19.301  6723.394   0.0   0.433  \n",
            "mean_std: {'Deceptive Explanation': {'mean': 47.21336420774065, 'std': 24.922204437392676}, 'Honest Explanation': {'mean': 72.50184749748068, 'std': 19.76643048553202}, 'No Feedback': {'mean': 63.505, 'std': 22.720453593665706}}\n",
            "----\n",
            "p-value annotation legend:\n",
            "      ns: p <= 1.00e+00\n",
            "       *: 1.00e-02 < p <= 5.00e-02\n",
            "      **: 1.00e-03 < p <= 1.00e-02\n",
            "     ***: 1.00e-04 < p <= 1.00e-03\n",
            "    ****: p <= 1.00e-04\n",
            "\n",
            "_Honest Explanation vs. _Deceptive Explanation: Custom statistical test, P_val:0.000e+00\n",
            "_No Feedback vs. _Honest Explanation: Custom statistical test, P_val:0.000e+00\n",
            "_No Feedback vs. _Deceptive Explanation: Custom statistical test, P_val:0.000e+00\n"
          ]
        },
        {
          "output_type": "display_data",
          "data": {
            "text/plain": [
              "<Figure size 300x500 with 1 Axes>"
            ],
            "image/png": "[encoded data removed]"
          },
          "metadata": {}
        }
      ]
    },
    {
      "cell_type": "markdown",
      "source": [
        "#### BELIEF EFFECTS BY TRUE/FALSE"
      ],
      "metadata": {
        "id": "NYxd6VC3NX9z"
      }
    },
    {
      "cell_type": "code",
      "source": [
        "# Plot\n",
        "\n",
        "def plotter(data, name, hue, palette):\n",
        "\n",
        "    data['explanation_type'] = data['explanation_type'].map({'No Feedback':'No Feedback', 'Honest': 'Honest Explanation', 'Deceptive':'Deceptive Explanation'})\n",
        "    print(data['explanation_type'].unique())\n",
        "\n",
        "    data['Rated as true'] = data['second_rating']\n",
        "    data['Ground Truth'] = data['true_statement'].map({0:'False', 1: 'True'})\n",
        "\n",
        "    # Plot settings\n",
        "    plot_params = {\n",
        "        'x': \"Ground Truth\",\n",
        "        'y' : \"Rated as true\",\n",
        "        'hue' : hue,\n",
        "        'data' : data,\n",
        "        'palette': palette,\n",
        "        'order' : [\"True\", \"False\"],\n",
        "        'hue_order' : [\"No Feedback\",\"Honest Explanation\",\"Deceptive Explanation\"],\n",
        "    }\n",
        "\n",
        "    # Stats\n",
        "    stats(**plot_params, graph_viz=True, title=name, ylim=[1,5], figsize=None, stats_viz=True, plot_params=plot_params)\n",
        "\n",
        "\n",
        "blue_palette = sns.set_palette(sns.color_palette([lightgrey, blue, red]))\n",
        "plotter(result_df[(result_df.trivia==0) & (result_df.explanation == 1)],\"Truth Rating on News Headlines\",\"explanation_type\", blue_palette)\n",
        "#plotter(result_df[(result_df.trivia==1)],\"Truth Rating on Trivia Statements\",\"explanation_type\", blue_palette)"
      ],
      "metadata": {
        "colab": {
          "base_uri": "https://localhost:8080/"
        },
        "id": "Y7bGaylbzZhF",
        "outputId": "c3300fdd-0865-4f61-db96-af99800141b4"
      },
      "execution_count": null,
      "outputs": [
        {
          "output_type": "stream",
          "name": "stdout",
          "text": [
            "['Deceptive Explanation' 'Honest Explanation' 'No Feedback']\n",
            "----\n",
            "Within the 'True' group of 'Ground Truth':\n",
            "----\n",
            "Running stats between the samples: ['Deceptive Explanation', 'Honest Explanation', 'No Feedback']\n",
            "> Sample size sufficient\n",
            "   > Sample sizes are unequal and homogeneity *NOT MET*: w_levene=42.60383329874551, p_levene=4.0195575878991104e-19\n",
            "         > Thus running ANOVA Welch:\n",
            "            > ANOVA Welch *SIGNIFICANT*: welch=\n",
            "             Source  ddof1        ddof2           F          p-unc       np2\n",
            "0  explanation_type      2  3990.755626  844.810277  1.160799e-306  0.182567\n",
            "\n",
            ">Thus running Games-Howell test:\n",
            "                       A                   B  mean(A)  mean(B)   diff     se  \\\n",
            "0  Deceptive Explanation  Honest Explanation    2.363    3.775 -1.413  0.035   \n",
            "1  Deceptive Explanation         No Feedback    2.363    3.263 -0.901  0.031   \n",
            "2     Honest Explanation         No Feedback    3.775    3.263  0.512  0.030   \n",
            "\n",
            "        T        df  pval  hedges  \n",
            "0 -40.768  3637.027   0.0  -1.347  \n",
            "1 -28.680  3710.777   0.0  -0.819  \n",
            "2  17.250  3981.830   0.0   0.494  \n",
            "mean_std: {'Deceptive Explanation': {'mean': 2.362826086956522, 'std': 1.0958266038985183}, 'Honest Explanation': {'mean': 3.775383771929825, 'std': 0.9996885777724012}, 'No Feedback': {'mean': 3.2633460698689962, 'std': 1.1049842872011097}}\n",
            "----\n",
            "----\n",
            "Within the 'False' group of 'Ground Truth':\n",
            "----\n",
            "Running stats between the samples: ['Deceptive Explanation', 'Honest Explanation', 'No Feedback']\n",
            "> Sample size sufficient\n",
            "   > Sample sizes are unequal and homogeneity *NOT MET*: w_levene=227.81330697984623, p_levene=3.9506006535197633e-95\n",
            "         > Thus running ANOVA Welch:\n",
            "            > ANOVA Welch *SIGNIFICANT*: welch=\n",
            "             Source  ddof1       ddof2           F         p-unc     np2\n",
            "0  explanation_type      2  2506.89252  212.060782  8.190714e-86  0.0894\n",
            "\n",
            ">Thus running Games-Howell test:\n",
            "                       A                   B  mean(A)  mean(B)  diff     se  \\\n",
            "0  Deceptive Explanation  Honest Explanation    2.643    1.613  1.03  0.050   \n",
            "1  Deceptive Explanation         No Feedback    2.643    1.963  0.68  0.049   \n",
            "2     Honest Explanation         No Feedback    1.613    1.963 -0.35  0.036   \n",
            "\n",
            "        T        df  pval  hedges  \n",
            "0  20.546  2010.855   0.0   0.850  \n",
            "1  13.985  1981.275   0.0   0.499  \n",
            "2  -9.630  2830.013   0.0  -0.347  \n",
            "mean_std: {'Deceptive Explanation': {'mean': 2.6426880811496196, 'std': 1.4497138558613671}, 'Honest Explanation': {'mean': 1.6126626192541198, 'std': 0.9216979000127565}, 'No Feedback': {'mean': 1.9629280821917807, 'std': 1.1700161187633633}}\n",
            "----\n",
            "p-value annotation legend:\n",
            "      ns: p <= 1.00e+00\n",
            "       *: 1.00e-02 < p <= 5.00e-02\n",
            "      **: 1.00e-03 < p <= 1.00e-02\n",
            "     ***: 1.00e-04 < p <= 1.00e-03\n",
            "    ****: p <= 1.00e-04\n",
            "\n",
            "False_Honest Explanation vs. False_Deceptive Explanation: Custom statistical test, P_val:0.000e+00\n",
            "True_Honest Explanation vs. True_Deceptive Explanation: Custom statistical test, P_val:0.000e+00\n",
            "True_No Feedback vs. True_Honest Explanation: Custom statistical test, P_val:0.000e+00\n",
            "False_No Feedback vs. False_Honest Explanation: Custom statistical test, P_val:0.000e+00\n",
            "False_No Feedback vs. False_Deceptive Explanation: Custom statistical test, P_val:0.000e+00\n",
            "True_No Feedback vs. True_Deceptive Explanation: Custom statistical test, P_val:0.000e+00\n"
          ]
        },
        {
          "output_type": "display_data",
          "data": {
            "text/plain": [
              "<Figure size 640x480 with 1 Axes>"
            ],
            "image/png": "[encoded data removed]"
          },
          "metadata": {}
        }
      ]
    },
    {
      "cell_type": "markdown",
      "source": [
        "#### SPLIT BY CLASSIFICATION / EXPLANATION\n"
      ],
      "metadata": {
        "id": "Qpe0_hPR3LRg"
      }
    },
    {
      "cell_type": "code",
      "source": [
        "def plotter(data, name, hue, palette):\n",
        "    fig = plt.figure()\n",
        "    ax = fig.add_subplot(1,1,1)\n",
        "\n",
        "    print(data['text_explanation'].unique())\n",
        "    data['text_explanation'] = data['text_explanation'].map({'No Feedback':'No Feedback', 'GPT Explanation': 'With Explanations', 'No Explanation':'Without Explanations'})\n",
        "    print(data['explanation_type'].unique())\n",
        "    ax = sns.barplot(x=\"true_statement\", y=\"second_rating\",hue=hue,\n",
        "                     order = [1, 0],\n",
        "                     hue_order=[\"No Feedback\", \"Without Explanations\", \"With Explanations\", \"\"],\n",
        "                     data=data,\n",
        "                     alpha=.99,\n",
        "                     errcolor=\"black\", errwidth=2, capsize=.05,\n",
        "                     palette=palette)\n",
        "    ax.set_ylabel(\"Rated as true\")\n",
        "    ax.set_xlabel(\"\")\n",
        "    ax.set_xticklabels(['True', 'False'])\n",
        "    ax.legend()\n",
        "    ax.set_ylim(1,5)\n",
        "    ax.set_yticklabels([\"1\",\"\",\"2\",\"\",\"3\",\"\",\"4\",\"\",\"5\"])\n",
        "    #ax.set_title(\"{}\".format(name))\n",
        "    fig.savefig(\"{}.png\".format(name),dpi=600, bbox_inches=\"tight\")\n",
        "    plt.show()\n",
        "\n",
        "\n",
        "blue_palette = sns.set_palette(sns.color_palette([lightgrey, red, darkred, red]))\n",
        "plotter(result_df[(result_df.trivia==0) & (result_df.deceptive_feedback==1)],\"deception_breakdown_news\",\"text_explanation\", blue_palette)\n",
        "blue_palette = sns.set_palette(sns.color_palette([lightgrey, blue, darkblue, red]))\n",
        "#plotter(result_df[(result_df.trivia==0) & (result_df.deceptive_feedback==0)],\"honest_breakdown_news\",\"text_explanation\", blue_palette)\n",
        "#plotter(result_df[(result_df.trivia==1) & (result_df.deceptive_feedback==1)],\"deception_breakdown_trivia\",\"text_explanation\", blue_palette)"
      ],
      "metadata": {
        "colab": {
          "base_uri": "https://localhost:8080/"
        },
        "id": "ofB04o9mBxUu",
        "outputId": "ea458d23-6656-4b5a-8111-0e319e2c9ca3"
      },
      "execution_count": null,
      "outputs": [
        {
          "output_type": "stream",
          "name": "stdout",
          "text": [
            "['GPT Explanation' 'No Explanation' 'No Feedback']\n",
            "['Deceptive' 'No Feedback']\n"
          ]
        },
        {
          "output_type": "display_data",
          "data": {
            "text/plain": [
              "<Figure size 300x500 with 1 Axes>"
            ],
            "image/png": "[encoded data removed]"
          },
          "metadata": {}
        }
      ]
    },
    {
      "cell_type": "markdown",
      "source": [
        "#### VALIDITY"
      ],
      "metadata": {
        "id": "sx1HG4eqEkaB"
      }
    },
    {
      "cell_type": "code",
      "source": [
        "def plotter(data, name, hue, palette):\n",
        "    fig = plt.figure()\n",
        "    plt.rcParams['hatch.linewidth'] = 3\n",
        "    plt.rcParams[\"figure.figsize\"] = (3,5)\n",
        "    ax = fig.add_subplot(1,1,1)\n",
        "\n",
        "    print(data['invalid_statement'].unique())\n",
        "    data['invalid_statement'] = data['invalid_statement'].map({0: 'Logically Valid', 1:'Logically Invalid'})\n",
        "    print(data['invalid_statement'].unique())\n",
        "    ax = sns.barplot(x=\"true_statement\", y=\"second_rating\",hue=hue,\n",
        "                     order = [1, 0],\n",
        "                     #hue_order=[\"Logically Valid\", \"Logically Invalid\"],\n",
        "                     data=data,\n",
        "                     alpha=.99,\n",
        "                     errcolor=\"black\", errwidth=2, capsize=.05,\n",
        "                     palette=palette)\n",
        "    ax.set_ylabel(\"Rated as true\")\n",
        "    ax.set_xlabel(\"\")\n",
        "    ax.set_xticklabels(['True', 'False'])\n",
        "    ax.legend()\n",
        "    ax.set_ylim(1,5)\n",
        "    ax.set_yticklabels([\"1\",\"\",\"2\",\"\",\"3\",\"\",\"4\",\"\",\"5\"])\n",
        "    #ax.set_title(\"{}\".format(name))\n",
        "\n",
        "    num_x_axis = len(data.true_statement.unique())\n",
        "    hatches = itertools.cycle(['//', '//'])\n",
        "    colors = itertools.cycle([\"darkred\", \"lightcoral\"])\n",
        "    for i, bar in enumerate(ax.patches):\n",
        "        if i % num_x_axis == 0:\n",
        "            hatch = next(hatches)\n",
        "            color = next(colors)\n",
        "        bar.set_edgecolor(color)\n",
        "        bar.set_hatch(hatch)\n",
        "\n",
        "    fig.savefig(\"{}.png\".format(name),dpi=600, bbox_inches=\"tight\")\n",
        "    plt.show()\n",
        "\n",
        "\n",
        "blue_palette = sns.set_palette(sns.color_palette([red, darkred,\"white\", \"white\", darkred, red]))\n",
        "plotter(result_df[(result_df.trivia==0) & (result_df.deceptive_feedback==1) & (result_df.explanation == 1)],\"deception_validity_news\",\"invalid_statement\", blue_palette)"
      ],
      "metadata": {
        "colab": {
          "base_uri": "https://localhost:8080/",
          "height": 975
        },
        "id": "80wNSMl1E3Fh",
        "outputId": "af7222e4-6587-43d6-d2d3-ea2cae9832c9"
      },
      "execution_count": null,
      "outputs": [
        {
          "output_type": "stream",
          "name": "stdout",
          "text": [
            "[1 0]\n",
            "['Logically Invalid' 'Logically Valid']\n"
          ]
        },
        {
          "output_type": "display_data",
          "data": {
            "text/plain": [
              "<Figure size 300x500 with 1 Axes>"
            ],
            "image/png": "[encoded data removed]"
          },
          "metadata": {}
        },
        {
          "output_type": "stream",
          "name": "stdout",
          "text": [
            "[1 0]\n",
            "['Logically Invalid' 'Logically Valid']\n"
          ]
        },
        {
          "output_type": "stream",
          "name": "stderr",
          "text": [
            "WARNING:matplotlib.legend:No artists with labels found to put in legend.  Note that artists whose label start with an underscore are ignored when legend() is called with no argument.\n"
          ]
        },
        {
          "output_type": "display_data",
          "data": {
            "text/plain": [
              "<Figure size 300x500 with 1 Axes>"
            ],
            "image/png": "[encoded data removed]"
          },
          "metadata": {}
        }
      ]
    }
  ],
  "metadata": {
    "kernelspec": {
      "display_name": "Python 3",
      "language": "python",
      "name": "python3"
    },
    "language_info": {
      "codemirror_mode": {
        "name": "ipython",
        "version": 3
      },
      "file_extension": ".py",
      "mimetype": "text/x-python",
      "name": "python",
      "nbconvert_exporter": "python",
      "pygments_lexer": "ipython3",
      "version": "3.8.3"
    },
    "colab": {
      "provenance": [],
      "collapsed_sections": [
        "al1bPrSImJI5",
        "fJaLQGzrmNFp",
        "Ce0po4rpCIVW",
        "f429S4VoZnNj",
        "4Qfy1HzMZqpE",
        "P88wsmeNHE88",
        "NYxd6VC3NX9z",
        "Qpe0_hPR3LRg",
        "cV5Qmxh0HUYT",
        "b7uuqQnJwOce"
      ]
    }
  },
  "nbformat": 4,
  "nbformat_minor": 0
}